{
 "cells": [
  {
   "cell_type": "code",
   "execution_count": null,
   "source": [
    "import time\r\n",
    "import pandas as pd\r\n",
    "import numpy as np\r\n",
    "\r\n",
    "# start = time.time()\r\n",
    "# print(\"hello\")\r\n",
    "# end = time.time()\r\n",
    "# print(end - start)"
   ],
   "outputs": [],
   "metadata": {}
  },
  {
   "cell_type": "markdown",
   "source": [
    "## GCD (Greatest Common Divisor)"
   ],
   "metadata": {}
  },
  {
   "cell_type": "code",
   "execution_count": null,
   "source": [
    "def GCD(a,b):\r\n",
    "    if b == 0:\r\n",
    "        return a\r\n",
    "    else:\r\n",
    "        a_new = a%b\r\n",
    "    return GCD(b, a_new)"
   ],
   "outputs": [],
   "metadata": {}
  },
  {
   "cell_type": "code",
   "execution_count": null,
   "source": [
    "GCD(3918848,1653264)"
   ],
   "outputs": [],
   "metadata": {}
  },
  {
   "cell_type": "code",
   "execution_count": null,
   "source": [
    "GCD(1653264,3918848)"
   ],
   "outputs": [],
   "metadata": {}
  },
  {
   "cell_type": "markdown",
   "source": [
    "## Fibonaci"
   ],
   "metadata": {}
  },
  {
   "cell_type": "markdown",
   "source": [
    "### Find the n-th of Finbonaci"
   ],
   "metadata": {}
  },
  {
   "cell_type": "code",
   "execution_count": null,
   "source": [
    "def fib(n):\r\n",
    "    if (n <= 1):\r\n",
    "        return n\r\n",
    "    else:\r\n",
    "        f = list(range(0,n+1))\r\n",
    "        f[0] = 0\r\n",
    "        f[1] = 1\r\n",
    "        for i in range(2,n+1):\r\n",
    "            f[i] = f[i-1] + f[i-2]\r\n",
    "        return f[-1]"
   ],
   "outputs": [],
   "metadata": {}
  },
  {
   "cell_type": "code",
   "execution_count": null,
   "source": [
    "print(fib(100))"
   ],
   "outputs": [],
   "metadata": {}
  },
  {
   "cell_type": "markdown",
   "source": [
    "### Memo method - Dynamic way"
   ],
   "metadata": {}
  },
  {
   "cell_type": "code",
   "execution_count": null,
   "source": [
    "def fib(n):\r\n",
    "    if n in memo:\r\n",
    "        return memo[n]\r\n",
    "    if n<=2: \r\n",
    "        f = 1\r\n",
    "    else:\r\n",
    "        f = fib(n-1)+fib(n-2)\r\n",
    "    memo[n]=f\r\n",
    "    return f"
   ],
   "outputs": [],
   "metadata": {}
  },
  {
   "cell_type": "code",
   "execution_count": null,
   "source": [
    "memo = {}\r\n",
    "print(fib(100), memo)"
   ],
   "outputs": [],
   "metadata": {}
  },
  {
   "cell_type": "code",
   "execution_count": null,
   "source": [
    "def fib_ia(n):\r\n",
    "    return pow(2 << n, n+1, (4 << 2 * n) - (2 << n)-1) % (2 << n)"
   ],
   "outputs": [],
   "metadata": {}
  },
  {
   "cell_type": "code",
   "execution_count": null,
   "source": [
    "fib_ia(100)"
   ],
   "outputs": [],
   "metadata": {}
  },
  {
   "cell_type": "markdown",
   "source": [
    "### Other"
   ],
   "metadata": {}
  },
  {
   "cell_type": "code",
   "execution_count": null,
   "source": [
    "def fib_last_digit(n):\r\n",
    "    if n == 1:\r\n",
    "        return n\r\n",
    "    else:\r\n",
    "        f = list(range(0,n+1))\r\n",
    "        f[0] = 0\r\n",
    "        f[1] = 1\r\n",
    "        for i in range(2,n+1):\r\n",
    "            f[i] = f[i-1] + f[i-2]\r\n",
    "            f[i] = f[i]%10\r\n",
    "        return f[-1]\r\n"
   ],
   "outputs": [],
   "metadata": {}
  },
  {
   "cell_type": "code",
   "execution_count": null,
   "source": [
    "n = int(input())\r\n",
    "if n<=1:\r\n",
    "    print(n)\r\n",
    "    \r\n",
    "def lastdigitfibo(n):\r\n",
    "    a, b = 0, 1\r\n",
    "    for _ in range(n-1):\r\n",
    "        c = a + b\r\n",
    "        c = c%10\r\n",
    "        b, a = c, b\r\n",
    "    print(c)\r\n",
    "\r\n",
    "fib_last_digit(n)"
   ],
   "outputs": [],
   "metadata": {}
  },
  {
   "cell_type": "markdown",
   "source": [
    "## Change Coin"
   ],
   "metadata": {}
  },
  {
   "cell_type": "code",
   "execution_count": null,
   "source": [
    "def get_change(m):\r\n",
    "    if (m <0)|(m>1000):\r\n",
    "        return print(\"Wrong number\")\r\n",
    "    elif m == 0:\r\n",
    "        return m\r\n",
    "    else:\r\n",
    "        coin_10 = m//10\r\n",
    "        coin_5 = (m%10)//5\r\n",
    "        coin_1 = (m%10%5)\r\n",
    "        count = coin_10 + coin_5 + coin_1       \r\n",
    "    return count"
   ],
   "outputs": [],
   "metadata": {}
  },
  {
   "cell_type": "code",
   "execution_count": null,
   "source": [
    "get_change(98)"
   ],
   "outputs": [],
   "metadata": {}
  },
  {
   "cell_type": "code",
   "execution_count": null,
   "source": [
    "def count(S, m, n): \r\n",
    "  \r\n",
    "    # table[i] will be storing the number of solutions for \r\n",
    "    # value i. We need n+1 rows as the table is constructed \r\n",
    "    # in bottom up manner using the base case (n = 0) \r\n",
    "    # Initialize all table values as 0 \r\n",
    "    table = [0 for k in range(n+1)] \r\n",
    "  \r\n",
    "    # Base case (If given value is 0) \r\n",
    "    table[0] = 1\r\n",
    "  \r\n",
    "    # Pick all coins one by one and update the table[] values \r\n",
    "    # after the index greater than or equal to the value of the \r\n",
    "    # picked coin \r\n",
    "    for i in range(0,m): \r\n",
    "        print(\"Coin\",S[i])\r\n",
    "        for j in range(S[i],n+1):\r\n",
    "            print(j)\r\n",
    "            table[j] += table[j-S[i]] \r\n",
    "            print(table)\r\n",
    "  \r\n",
    "    return table[n] \r\n",
    "  \r\n",
    "# Driver program to test above function \r\n",
    "# arr = [1,2,5,10,20,50,100,200,500] \r\n",
    "arr = [1,3,4] \r\n",
    "m = len(arr) \r\n",
    "n = 4\r\n",
    "x = count(arr, m, n) \r\n",
    "print (\"Result\", x) "
   ],
   "outputs": [],
   "metadata": {}
  },
  {
   "cell_type": "code",
   "execution_count": null,
   "source": [
    "def dpMakeChange(coinValueList,change):\r\n",
    "    minCoins = [0]*(change+1)\r\n",
    "    for cents in range(change+1):\r\n",
    "        coinCount = cents\r\n",
    "#         print(cents)\r\n",
    "#         print(\"BF\",minCoins)\r\n",
    "        for j in [c for c in coinValueList if c <= cents]:\r\n",
    "            if minCoins[cents-j] + 1 < coinCount:\r\n",
    "                coinCount = minCoins[cents-j]+1\r\n",
    "        minCoins[cents] = coinCount\r\n",
    "#         print(\"AF\",minCoins)\r\n",
    "    return minCoins[change]"
   ],
   "outputs": [],
   "metadata": {}
  },
  {
   "cell_type": "code",
   "execution_count": null,
   "source": [
    "def min_coin_change(value):\r\n",
    "    list_coin = [1,3,4]\r\n",
    "    min_coins = [0]*(value+1) ## Create value range\r\n",
    "    for coin in range(value+1):\r\n",
    "        count = coin\r\n",
    "        for i in [c for c in list_coin if c <= coin]:\r\n",
    "            if min_coins[coin - i] + 1 < count:\r\n",
    "                count = min_coins[coin - i] + 1\r\n",
    "        min_coins[coin] = count\r\n",
    "    return min_coins[value]"
   ],
   "outputs": [],
   "metadata": {}
  },
  {
   "cell_type": "code",
   "execution_count": null,
   "source": [
    "# clist = [1,5,10,21,25]\r\n",
    "# min_coin_change(clist, 63)\r\n",
    "\r\n",
    "clist = [1,3,4]\r\n",
    "min_coin_change(34)"
   ],
   "outputs": [],
   "metadata": {}
  },
  {
   "cell_type": "markdown",
   "source": [
    "## Knapsack"
   ],
   "metadata": {}
  },
  {
   "cell_type": "code",
   "execution_count": null,
   "source": [
    "data = [5,100,3,50,60,20,100,50,120,30]\r\n",
    "n, capacity = data[0:2]\r\n",
    "values = data[2:(2 * n + 2):2]\r\n",
    "weights = data[3:(2 * n + 2):2]"
   ],
   "outputs": [],
   "metadata": {}
  },
  {
   "cell_type": "code",
   "execution_count": null,
   "source": [
    "proportion = [float(v) / float(w) for v, w in zip(values, weights)]\r\n",
    "print(proportion.index(max(proportion)))\r\n",
    "print(proportion)"
   ],
   "outputs": [],
   "metadata": {}
  },
  {
   "cell_type": "code",
   "execution_count": null,
   "source": [
    "print(values)\r\n",
    "print(weights)"
   ],
   "outputs": [],
   "metadata": {}
  },
  {
   "cell_type": "code",
   "execution_count": null,
   "source": [
    "def get_optimal_value(capacity, weights, values):\r\n",
    "    value = 0.\r\n",
    "    proportion = [float(v) / float(w) for v, w in zip(values, weights)]\r\n",
    "\r\n",
    "    a = list(range(0,len(weights)+1))\r\n",
    "    for _ in range(0,len(weights)+1):\r\n",
    "        if (capacity == 0)|(capacity<0)|(capacity>100):\r\n",
    "            return value\r\n",
    "            break\r\n",
    "        max_w = max(proportion)\r\n",
    "        index = proportion.index(max(proportion))\r\n",
    "        proportion[index] = -1 # for each iteration, remove the max item \r\n",
    "        \r\n",
    "        print(index)\r\n",
    "        \r\n",
    "        current = min(weights[index], capacity)\r\n",
    "        value += current * max_w\r\n",
    "        weights[index] = weights[index] - current\r\n",
    "        capacity = capacity - current\r\n",
    "    return value"
   ],
   "outputs": [],
   "metadata": {}
  },
  {
   "cell_type": "code",
   "execution_count": null,
   "source": [
    "get_optimal_value(capacity, weights, values)"
   ],
   "outputs": [],
   "metadata": {}
  },
  {
   "cell_type": "code",
   "execution_count": null,
   "source": [
    "def optimal_weight(W, w):\r\n",
    "    \"\"\"Knapsack without repetitions.\r\n",
    "    It's given a set of bars of gold and the goal is to take as much gold as\r\n",
    "    possible into the bag. There is just one copy of each bar and for each bar\r\n",
    "    you can either take it or not (hence you cannot take a fraction of a bar).\r\n",
    "    Samples:\r\n",
    "    >>> optimal_weight(10, [1, 4, 8])\r\n",
    "    9\r\n",
    "    >>> # Explanation:\r\n",
    "    >>> # The sum of the weights of the first and the last bar is equal to 9.\r\n",
    "    >>> #\r\n",
    "    >>> # Weight matrix:\r\n",
    "    >>> #\r\n",
    "    >>> #                  W(i)\r\n",
    "    >>> #          0 1 2 3 4 5 6 7 8 9 10\r\n",
    "    >>> #        +-----------------------\r\n",
    "    >>> #        | 0 0 0 0 0 0 0 0 0 0 0\r\n",
    "    >>> #      1 | 0 1 1 1 1 1 1 1 1 1 1\r\n",
    "    >>> # w(j) 4 | 0 1 1 1 1 5 5 5 5 5 5\r\n",
    "    >>> #      8 | 0 1 1 1 1 5 5 5 5 9 9\r\n",
    "    >>> #        +-----------------------\r\n",
    "    \"\"\"\r\n",
    "    w = [0] + w\r\n",
    "    items = len(w)\r\n",
    "    capacity = W +1\r\n",
    "\r\n",
    "    # Create a weight matrix and write in initial values.\r\n",
    "    weights = [[0 for _ in range(items)] for _ in range(capacity)]\r\n",
    "\r\n",
    "    for j in range(1, items):\r\n",
    "        for i in range(1, capacity):\r\n",
    "            prev = weights[i][j - 1]\r\n",
    "            cur = w[j] + weights[W - w[j]][j - 1]\r\n",
    "            if cur > i:\r\n",
    "                weights[i][j] = prev\r\n",
    "            else:\r\n",
    "                weights[i][j] = max(prev, cur)\r\n",
    "\r\n",
    "    return weights[-1][-1] + 1"
   ],
   "outputs": [],
   "metadata": {}
  },
  {
   "cell_type": "code",
   "execution_count": null,
   "source": [
    "import pandas as pd\r\n",
    "\r\n",
    "# weight equals value\r\n",
    "def optimal_weight(W, w):\r\n",
    "    golds = [0] + w\r\n",
    "\r\n",
    "    gold_df = [[0 for _ in range(W+1)] for _ in range(len(golds))]\r\n",
    "\r\n",
    "    for weight in range(1, W+1):\r\n",
    "        for i in range(1, len(golds)):\r\n",
    "            gold_df[i][weight] = gold_df[i-1][weight]\r\n",
    "            if golds[i] <= weight:\r\n",
    "                gold_df[i][weight] = max(gold_df[i-1][weight-golds[i]] + golds[i], gold_df[i-1][weight])\r\n",
    "\r\n",
    "    return pd.DataFrame(gold_df, index=golds)"
   ],
   "outputs": [],
   "metadata": {}
  },
  {
   "cell_type": "code",
   "execution_count": null,
   "source": [
    "optimal_weight(10,[1,4,8])"
   ],
   "outputs": [],
   "metadata": {}
  },
  {
   "cell_type": "code",
   "execution_count": null,
   "source": [
    "# weight with different value\r\n",
    "def optimal_weight_value(W, w, v):\r\n",
    "    w = [0] + w\r\n",
    "    v = [0] + v\r\n",
    "\r\n",
    "    v_dict=dict(zip(w, v))\r\n",
    "\r\n",
    "    df = [[0 for _ in range(W+1)] for _ in range(len(w))]\r\n",
    "    select = {}\r\n",
    "\r\n",
    "    for weight in range(1, W+1):\r\n",
    "        for i in range(1, len(w)):\r\n",
    "            df[i][weight] = df[i-1][weight]\r\n",
    "            if w[i] <= weight:\r\n",
    "                df[i][weight] = max(df[i-1][weight-w[i]] + v_dict[w[i]], df[i-1][weight])\r\n",
    "\r\n",
    "    w_remain=W\r\n",
    "    for i in reversed(range(1, len(w))):\r\n",
    "        if (df[i][-1] > df[i-1][-1])&(w_remain>=w[i]):\r\n",
    "            select[w[i]]= v_dict[w[i]]\r\n",
    "            w_remain = w_remain-w[i]\r\n",
    "\r\n",
    "    return print(pd.DataFrame(df, index=w)), select\r\n",
    "\r\n",
    "optimal_weight_value(7, [1,3,4,5], [1,4,5,7])"
   ],
   "outputs": [],
   "metadata": {}
  },
  {
   "cell_type": "code",
   "execution_count": null,
   "source": [
    "[[0 for _ in range(7+1)] for _ in range(len([0,1,3,4,5]))]"
   ],
   "outputs": [],
   "metadata": {}
  },
  {
   "cell_type": "code",
   "execution_count": null,
   "source": [
    "# A Dynamic Programming based Python \r\n",
    "# Program for 0-1 Knapsack problem \r\n",
    "# Returns the maximum value that can \r\n",
    "# be put in a knapsack of capacity W \r\n",
    "def knapSack(W, wt, val, n): \r\n",
    "\tK = [[0 for x in range(W + 1)] for x in range(n + 1)] \r\n",
    "\r\n",
    "\t# Build table K[][] in bottom up manner \r\n",
    "\tfor i in range(n + 1): \r\n",
    "\t\tfor w in range(W + 1): \r\n",
    "\t\t\tif i == 0 or w == 0: \r\n",
    "\t\t\t\tK[i][w] = 0\r\n",
    "\t\t\telif wt[i-1] <= w: \r\n",
    "\t\t\t\tK[i][w] = max(val[i-1] + K[i-1][w-wt[i-1]], K[i-1][w]) \r\n",
    "\t\t\telse: \r\n",
    "\t\t\t\tK[i][w] = K[i-1][w] \r\n",
    "\r\n",
    "\treturn K[n][W] \r\n",
    "\r\n",
    "# Driver program to test above function \r\n",
    "val = [60, 100, 120] \r\n",
    "wt = [10, 20, 30] \r\n",
    "W = 50\r\n",
    "n = len(val) \r\n",
    "print(knapSack(W, wt, val, n)) \r\n",
    "# This code is contributed by Bhavya Jain \r\n"
   ],
   "outputs": [],
   "metadata": {}
  },
  {
   "cell_type": "code",
   "execution_count": null,
   "source": [
    "knapSack(20, [5, 7, 12, 18])"
   ],
   "outputs": [],
   "metadata": {}
  },
  {
   "cell_type": "markdown",
   "source": [
    "## Car Fueling"
   ],
   "metadata": {}
  },
  {
   "cell_type": "code",
   "execution_count": null,
   "source": [
    "def compute_min_refills(dist, miles, gas_stations):\r\n",
    "    num_refill, curr_refill, limit = 0, 0, miles\r\n",
    "    while limit < dist:  # While the destination cannot be reached with current fuel\r\n",
    "        if curr_refill >= len(gas_stations) or gas_stations[curr_refill] > limit:\r\n",
    "            # Cannot reach the destination nor the next gas station\r\n",
    "            return -1\r\n",
    "        # Find the furthest gas station we can reach\r\n",
    "        while curr_refill < len(gas_stations)-1 and gas_stations[curr_refill+1] <= limit:\r\n",
    "            curr_refill += 1\r\n",
    "        num_refill += 1  # Stop to tank\r\n",
    "        limit = gas_stations[curr_refill] + miles  # Fill up the tank \r\n",
    "        curr_refill += 1\r\n",
    "    return num_refill"
   ],
   "outputs": [],
   "metadata": {}
  },
  {
   "cell_type": "code",
   "execution_count": null,
   "source": [
    "distance = 950\r\n",
    "tank = 400\r\n",
    "stops = [200,375,550,750]\r\n",
    "_ = len(stops)"
   ],
   "outputs": [],
   "metadata": {}
  },
  {
   "cell_type": "code",
   "execution_count": null,
   "source": [
    "compute_min_refills(distance, tank, stops)"
   ],
   "outputs": [],
   "metadata": {}
  },
  {
   "cell_type": "markdown",
   "source": [
    "## Max Dot Product"
   ],
   "metadata": {}
  },
  {
   "cell_type": "code",
   "execution_count": null,
   "source": [
    "def max_dot_product(a, b):\r\n",
    "    #write your code here\r\n",
    "    res = 0\r\n",
    "    a.sort(reverse = True)\r\n",
    "    b.sort(reverse = True)\r\n",
    "    for i in range(len(a)):\r\n",
    "        res += a[i] * b[i]\r\n",
    "    return res\r\n"
   ],
   "outputs": [],
   "metadata": {}
  },
  {
   "cell_type": "code",
   "execution_count": null,
   "source": [
    "a = [1,3,-5]\r\n",
    "b = [-2,4,1]\r\n",
    "max_dot_product(a,b)"
   ],
   "outputs": [],
   "metadata": {}
  },
  {
   "cell_type": "markdown",
   "source": [
    "## Maximum number of prizes"
   ],
   "metadata": {}
  },
  {
   "cell_type": "code",
   "execution_count": null,
   "source": [
    "def optimal_summands(n):\r\n",
    "    W = n\r\n",
    "    prizes = []\r\n",
    "    if (n<1)|(n>10**9):\r\n",
    "        return n\r\n",
    "    if (n==1):\r\n",
    "        return [1]\r\n",
    "    for i in range(1, n):\r\n",
    "        if W>2*i:\r\n",
    "            prizes.append(i)\r\n",
    "            W -= i\r\n",
    "        else:\r\n",
    "            prizes.append(W)\r\n",
    "            break\r\n",
    "    return prizes"
   ],
   "outputs": [],
   "metadata": {}
  },
  {
   "cell_type": "code",
   "execution_count": null,
   "source": [
    "optimal_summands(1)"
   ],
   "outputs": [],
   "metadata": {}
  },
  {
   "cell_type": "markdown",
   "source": [
    "## Maximum Salary"
   ],
   "metadata": {}
  },
  {
   "cell_type": "code",
   "execution_count": null,
   "source": [
    "## Compose the largest number out of a set of integers\r\n",
    "def IsGreaterOrEqual(digit, max_digit):\r\n",
    "    return int(str(digit)+str(max_digit))>=int(str(max_digit)+str(digit))\r\n",
    "\r\n",
    "def largest_number(lst):\r\n",
    "    answer = []\r\n",
    "    \r\n",
    "    while lst!=[]:\r\n",
    "        max_digit = 0\r\n",
    "        for digit in lst:\r\n",
    "            if IsGreaterOrEqual(digit, max_digit):\r\n",
    "                max_digit = digit\r\n",
    "        answer.append(max_digit)\r\n",
    "        lst.remove(max_digit)\r\n",
    "\r\n",
    "    return int(''.join([str(i) for i in answer]))"
   ],
   "outputs": [],
   "metadata": {}
  },
  {
   "cell_type": "code",
   "execution_count": null,
   "source": [
    "test = [23,39,92]\r\n",
    "test1 = [9,4,6,1,9]\r\n",
    "largest_number(test1)"
   ],
   "outputs": [],
   "metadata": {}
  },
  {
   "cell_type": "markdown",
   "source": [
    "## Collecting Signatures"
   ],
   "metadata": {}
  },
  {
   "cell_type": "code",
   "execution_count": null,
   "source": [
    "n = int(input())\r\n",
    "lst = []\r\n",
    "\r\n",
    "for _ in range(n):\r\n",
    "    a, b = [int(i) for i in input().split()]\r\n",
    "    lst.append((a,b))\r\n",
    "\r\n",
    "def optimal_points(lst):\r\n",
    "    lst.sort(key = lambda x: x[1])\r\n",
    "\r\n",
    "    index = 0\r\n",
    "    coordinates = []\r\n",
    "\r\n",
    "    while index < n:\r\n",
    "        curr = lst[index]\r\n",
    "        while index < n-1 and curr[1]>=lst[index+1][0]:\r\n",
    "            print(index)\r\n",
    "            index += 1\r\n",
    "        coordinates.append(curr[1])\r\n",
    "        index += 1\r\n",
    "    return coordinates\r\n",
    "\r\n",
    "print(len(coordinates))\r\n",
    "print(' '.join([str(i) for i in coordinates]))"
   ],
   "outputs": [],
   "metadata": {}
  },
  {
   "cell_type": "code",
   "execution_count": null,
   "source": [
    "lst"
   ],
   "outputs": [],
   "metadata": {}
  },
  {
   "cell_type": "code",
   "execution_count": null,
   "source": [
    "def optimal_points(lst):\r\n",
    "    lst.sort(key = lambda x: x[1])\r\n",
    "\r\n",
    "    index = 0\r\n",
    "    coordinates = []\r\n",
    "\r\n",
    "    while index < n:\r\n",
    "        curr = lst[index]\r\n",
    "        while index < n-1 and curr[1]>=lst[index+1][0]:\r\n",
    "            index += 1\r\n",
    "        coordinates.append(curr[1])\r\n",
    "        index += 1\r\n",
    "    return coordinates"
   ],
   "outputs": [],
   "metadata": {}
  },
  {
   "cell_type": "code",
   "execution_count": null,
   "source": [
    "points = optimal_points(lst)\r\n",
    "print(len(points))\r\n",
    "print(*points)"
   ],
   "outputs": [],
   "metadata": {}
  },
  {
   "cell_type": "markdown",
   "source": [
    "## QuickSort "
   ],
   "metadata": {}
  },
  {
   "cell_type": "code",
   "execution_count": null,
   "source": [
    "def partition(arr, low, high): \r\n",
    "    i = (low-1)\r\n",
    "     # index of smaller element \r\n",
    "    pivot = arr[high]     # pivot \r\n",
    "    print(pivot)\r\n",
    "    for j in range(low, high): \r\n",
    "        # If current element is smaller than or \r\n",
    "        # equal to pivot \r\n",
    "#         print(\"Step\", j)\r\n",
    "        if arr[j] <= pivot: \r\n",
    "            # increment index of smaller element \r\n",
    "            i = i+1\r\n",
    "#             print(arr[i])\r\n",
    "#             print(arr[j])\r\n",
    "            arr[i], arr[j] = arr[j], arr[i] \r\n",
    "            \r\n",
    "    arr[i+1], arr[high] = arr[high], arr[i+1] \r\n",
    "    return (i+1) \r\n",
    "\r\n",
    "def quickSort(arr, low, high): \r\n",
    "    if len(arr) == 1: \r\n",
    "        return arr \r\n",
    "    if low < high: \r\n",
    "  \r\n",
    "        # pi is partitioning index, arr[p] is now \r\n",
    "        # at right place \r\n",
    "        pi = partition(arr, low, high) \r\n",
    "        print(\"Change pi\", pi)\r\n",
    "        # Separately sort elements before \r\n",
    "        # partition and after partition \r\n",
    "        quickSort(arr, low, pi-1) \r\n",
    "        print(arr)\r\n",
    "        quickSort(arr, pi+1, high)\r\n",
    "        print(arr)"
   ],
   "outputs": [],
   "metadata": {}
  },
  {
   "cell_type": "code",
   "execution_count": null,
   "source": [
    "def quick_sort(arr):\r\n",
    "    if len(arr) <= 1:\r\n",
    "        return arr\r\n",
    "    else:\r\n",
    "        pivot = arr.pop()\r\n",
    "\r\n",
    "    item_greater = []\r\n",
    "    item_lower = []\r\n",
    "    \r\n",
    "    for item in arr:\r\n",
    "        if item > pivot:\r\n",
    "            item_greater.append(item)\r\n",
    "        else: \r\n",
    "            item_lower.append(item)\r\n",
    "    \r\n",
    "    sorted_lower = quick_sort(item_lower)\r\n",
    "    sorted_greater = quick_sort(item_greater)\r\n",
    "    \r\n",
    "    return sorted_lower + [pivot] + sorted_greater"
   ],
   "outputs": [],
   "metadata": {}
  },
  {
   "cell_type": "code",
   "execution_count": null,
   "source": [
    "a = [12, 11, 13, 5, 6, 7, 54,26,93,17,77,31,44,55,20]\r\n",
    "quick_sort(a)"
   ],
   "outputs": [],
   "metadata": {}
  },
  {
   "cell_type": "code",
   "execution_count": null,
   "source": [
    "a = [12, 11, 13, 5, 6, 7, 54,26,93,17,77,31,44,55,20]\n",
    "n = len(a) \n",
    "quickSort(a, 0, n-1) "
   ],
   "outputs": [],
   "metadata": {}
  },
  {
   "cell_type": "markdown",
   "source": [
    "## Binary Search"
   ],
   "metadata": {}
  },
  {
   "cell_type": "code",
   "execution_count": null,
   "source": [
    "import math\r\n",
    "def binary_search_all(arr, value):\r\n",
    "    index = []\r\n",
    "    for key in value:\r\n",
    "        i = binary_search(arr, 0, len(arr) - 1, key)\r\n",
    "        index.append(i)\r\n",
    "    return index\r\n",
    "\r\n",
    "def binary_search(a, low, high, k):\r\n",
    "    index = []\r\n",
    "    while low <= high:\r\n",
    "        mid = (high+low)//2\r\n",
    "        if a[mid] > k:\r\n",
    "            high = mid - 1\r\n",
    "        elif a[mid] < k:\r\n",
    "            low = mid + 1\r\n",
    "        else:\r\n",
    "            return mid\r\n",
    "    return -1"
   ],
   "outputs": [],
   "metadata": {}
  },
  {
   "cell_type": "code",
   "execution_count": null,
   "source": [
    "# Submitted version\r\n",
    "def binary_search(a, k):\r\n",
    "    low = 0\r\n",
    "    high = len(a) - 1\r\n",
    "    while low <= high:\r\n",
    "        mid = (high+low)//2\r\n",
    "        if a[mid] > k:\r\n",
    "            high = mid - 1\r\n",
    "        elif a[mid] < k:\r\n",
    "            low = mid + 1\r\n",
    "        else:\r\n",
    "            return mid\r\n",
    "    return -1"
   ],
   "outputs": [],
   "metadata": {}
  },
  {
   "cell_type": "code",
   "execution_count": null,
   "source": [
    "b = [1,5,8,12,13,24,32,16,18,98,72,14]\n",
    "value = 16\n",
    "c = quick_sort(b)\n",
    "c"
   ],
   "outputs": [],
   "metadata": {}
  },
  {
   "cell_type": "code",
   "execution_count": null,
   "source": [
    "binary_search(c, value)"
   ],
   "outputs": [],
   "metadata": {}
  },
  {
   "cell_type": "markdown",
   "source": [
    "## Majority "
   ],
   "metadata": {}
  },
  {
   "cell_type": "code",
   "execution_count": null,
   "source": [
    "## Check the element > n/2 times\r\n",
    "def get_majority_element(a, left, right):\r\n",
    "    if left == right:\r\n",
    "        return -1\r\n",
    "    if left + 1 == right:\r\n",
    "        return a[left]\r\n",
    "\r\n",
    "    left_m = get_majority_element(a, left, (left + right - 1)//2 + 1)\r\n",
    "    right_m = get_majority_element(a, (left + right - 1)//2 + 1, right)\r\n",
    "    \r\n",
    "    left_count = 0\r\n",
    "    for i in range(left, right):\r\n",
    "        if a[i] == left_m:\r\n",
    "            left_count += 1\r\n",
    "    if left_count > (right-left)//2:\r\n",
    "        return left_m\r\n",
    "\r\n",
    "    right_count = 0\r\n",
    "    for i in range(left, right):\r\n",
    "        if a[i] == right_m:\r\n",
    "            right_count += 1\r\n",
    "    if right_count > (right-left)//2:\r\n",
    "        return right_m\r\n",
    "\r\n",
    "    return -1\r\n",
    "# if __name__ == '__main__':\r\n",
    "#     input = sys.stdin.read()\r\n",
    "#     n, *a = list(map(int, input.split()))\r\n",
    "#     if get_majority_element(a, 0, n) != -1:\r\n",
    "#         print(1)\r\n",
    "#     else:\r\n",
    "#         print(0)"
   ],
   "outputs": [],
   "metadata": {}
  },
  {
   "cell_type": "code",
   "execution_count": null,
   "source": [
    "a = [12, 11, 13, 11, 6, 11, 11,11,11,17,77,31,11,55,11]\n",
    "b = [2, 3, 9, 2, 2]\n",
    "get_majority_element(a, 0, len(a))"
   ],
   "outputs": [],
   "metadata": {}
  },
  {
   "cell_type": "markdown",
   "source": [
    "## Quick sort (multiple partition)"
   ],
   "metadata": {}
  },
  {
   "cell_type": "code",
   "execution_count": null,
   "source": [
    "def partition3(A, l, r):\r\n",
    "    lt = l  # We initiate lt to be the part that is less than the pivot\r\n",
    "    i = l   # We scan the array from left to right\r\n",
    "    gt = r  # The part that is greater than the pivot\r\n",
    "    pivot = A[l]    # The pivot, chosen to be the first element of the array, that why we'll randomize the first elements position\r\n",
    "                    # in the quick_sort function.\r\n",
    "    while i <= gt:      # Starting from the first element.\r\n",
    "        if A[i] < pivot:\r\n",
    "            A[lt], A[i] = A[i], A[lt]\r\n",
    "            lt += 1\r\n",
    "            i += 1\r\n",
    "        elif A[i] > pivot:\r\n",
    "            A[i], A[gt] = A[gt], A[i]\r\n",
    "            gt -= 1\r\n",
    "        else:\r\n",
    "            i += 1\r\n",
    "            \r\n",
    "    return lt, gt\r\n",
    "\r\n",
    "def partition2(a, l, r):\r\n",
    "    x = a[l]\r\n",
    "    j = l\r\n",
    "    for i in range(l + 1, r + 1):\r\n",
    "        if a[i] <= x:\r\n",
    "            j += 1\r\n",
    "            a[i], a[j] = a[j], a[i]\r\n",
    "    a[l], a[j] = a[j], a[l]\r\n",
    "    return j\r\n",
    "\r\n",
    "\r\n",
    "def randomized_quick_sort(a, l, r):\r\n",
    "    if l >= r:\r\n",
    "        return\r\n",
    "    k = random.randint(l, r)\r\n",
    "    a[l], a[k] = a[k], a[l]\r\n",
    "    #use partition3\r\n",
    "    lt, gt = partition3(a, l, r)\r\n",
    "    print(lt, gt)\r\n",
    "    randomized_quick_sort(a, l, lt - 1)\r\n",
    "    randomized_quick_sort(a, gt + 1, r)"
   ],
   "outputs": [],
   "metadata": {}
  },
  {
   "cell_type": "code",
   "execution_count": null,
   "source": [
    "## With for loop\n",
    "def partition3(a, l, r):\n",
    "    x = a[l]\n",
    "    m1 = l\n",
    "    m2 = l\n",
    "    i = m1\n",
    "    for i in range(l + 1, r + 1):\n",
    "        print(i)\n",
    "        print(m1, m2)\n",
    "        if a[i] < x:\n",
    "            print(a)\n",
    "            a[i], a[m1] = a[m1], a[i]\n",
    "            a[i], a[m2+1] = a[m2+1], a[i]\n",
    "            m1 += 1\n",
    "            m2 += 1\n",
    "        elif a[i] == x:\n",
    "            a[i], a[m2+1] = a[m2+1], a[i]\n",
    "            m2 += 1\n",
    "    return m1, m2"
   ],
   "outputs": [],
   "metadata": {}
  },
  {
   "cell_type": "code",
   "execution_count": null,
   "source": [
    "import random\n",
    "c = [12, 11, 10,4,8,9,1,5,7]\n",
    "randomized_quick_sort(c, 0, len(c) - 1)\n",
    "c"
   ],
   "outputs": [],
   "metadata": {}
  },
  {
   "cell_type": "code",
   "execution_count": null,
   "source": [
    "c = [12, 11, 10,4,8,9,1,5,7]\n",
    "k = random.randint(0, len(c) - 1)\n",
    "c[0], c[k] = c[k], c[0]\n",
    "c"
   ],
   "outputs": [],
   "metadata": {}
  },
  {
   "cell_type": "code",
   "execution_count": null,
   "source": [
    "# #use partition3\n",
    "lt, gt = partition3(c, 0, len(c) - 1)\n",
    "print(lt, gt)"
   ],
   "outputs": [],
   "metadata": {}
  },
  {
   "cell_type": "markdown",
   "source": [
    "## Merge Sort"
   ],
   "metadata": {}
  },
  {
   "cell_type": "code",
   "execution_count": null,
   "source": [
    "# Python program for implementation of MergeSort\r\n",
    "def mergeSort(arr):\r\n",
    "\tif len(arr) > 1:\r\n",
    "\r\n",
    "\t\t# Finding the mid of the array\r\n",
    "\t\tmid = len(arr)//2\r\n",
    "\r\n",
    "\t\t# Dividing the array elements\r\n",
    "\t\tL = arr[:mid]\r\n",
    "\r\n",
    "\t\t# into 2 halves\r\n",
    "\t\tR = arr[mid:]\r\n",
    "\r\n",
    "\t\t# Sorting the first half\r\n",
    "\t\tmergeSort(L)\r\n",
    "\r\n",
    "\t\t# Sorting the second half\r\n",
    "\t\tmergeSort(R)\r\n",
    "\r\n",
    "\t\ti = j = k = 0\r\n",
    "\r\n",
    "\t\t# Copy data to temp arrays L[] and R[]\r\n",
    "\t\twhile i < len(L) and j < len(R):\r\n",
    "\t\t\tif L[i] < R[j]:\r\n",
    "\t\t\t\tarr[k] = L[i]\r\n",
    "\t\t\t\ti += 1\r\n",
    "\t\t\telse:\r\n",
    "\t\t\t\tarr[k] = R[j]\r\n",
    "\t\t\t\tj += 1\r\n",
    "\t\t\tk += 1\r\n",
    "\r\n",
    "\t\t# Checking if any element was left\r\n",
    "\t\twhile i < len(L):\r\n",
    "\t\t\tarr[k] = L[i]\r\n",
    "\t\t\ti += 1\r\n",
    "\t\t\tk += 1\r\n",
    "\r\n",
    "\t\twhile j < len(R):\r\n",
    "\t\t\tarr[k] = R[j]\r\n",
    "\t\t\tj += 1\r\n",
    "\t\t\tk += 1\r\n",
    "\r\n",
    "# Code to print the list\r\n",
    "\r\n",
    "\r\n",
    "def printList(arr):\r\n",
    "\tfor i in range(len(arr)):\r\n",
    "\t\tprint(arr[i], end=\" \")\r\n",
    "\tprint()\r\n",
    "\r\n",
    "\r\n",
    "# Driver Code\r\n",
    "\r\n",
    "arr = [12, 11, 13, 5, 6, 7, 54,26,93,17,77,31,44,55,20]\r\n",
    "print(\"Given array is\", end=\"\\n\")\r\n",
    "printList(arr)\r\n",
    "mergeSort(arr)\r\n",
    "print(\"Sorted array is: \", end=\"\\n\")\r\n",
    "printList(arr)\r\n",
    "\r\n",
    "# This code is contributed by Mayank Khanna\r\n"
   ],
   "outputs": [],
   "metadata": {}
  },
  {
   "cell_type": "markdown",
   "source": [
    "## Selection sort"
   ],
   "metadata": {}
  },
  {
   "cell_type": "code",
   "execution_count": null,
   "source": [
    "def selection_sort(arr):\r\n",
    "    index_length = range(0, len(arr) - 1)\r\n",
    "    for i in index_length:\r\n",
    "        min_value = i\r\n",
    "        \r\n",
    "        for j in range(i+1, len(arr)):\r\n",
    "            if arr[j] < arr[min_value]:\r\n",
    "                min_value = j\r\n",
    "        \r\n",
    "        if min_value != i:\r\n",
    "            arr[min_value], arr[i] = arr[i], arr[min_value]\r\n",
    "    \r\n",
    "    return arr"
   ],
   "outputs": [],
   "metadata": {}
  },
  {
   "cell_type": "code",
   "execution_count": null,
   "source": [
    "selection_sort(b)"
   ],
   "outputs": [],
   "metadata": {}
  },
  {
   "cell_type": "markdown",
   "source": [
    "## Optimal Comparison"
   ],
   "metadata": {}
  },
  {
   "cell_type": "code",
   "execution_count": null,
   "source": [
    "list1 = [\"C\", \"A\", \"T\"]\r\n",
    "list2 = [\"C\", \"A\", None]\r\n",
    "def get_index(list_item):\r\n",
    "    idx =[]\r\n",
    "    for i in range(0, len(list_item)):\r\n",
    "        if list_item[i] == None:\r\n",
    "            idx.append(None)\r\n",
    "        else:\r\n",
    "            idx.append(i)\r\n",
    "    return idx"
   ],
   "outputs": [],
   "metadata": {}
  },
  {
   "cell_type": "code",
   "execution_count": null,
   "source": [
    "idx1 = get_index(list1)\r\n",
    "idx2 = get_index(list2)\r\n",
    "tup = [(k,v) for k,v in dict(zip(idx1, idx2)).items()]"
   ],
   "outputs": [],
   "metadata": {}
  },
  {
   "cell_type": "code",
   "execution_count": null,
   "source": [
    "def dp_approach(n):\n",
    "    dp = [0,0]\n",
    "    array = [0,0]\n",
    "    for i in range(2, n+1):\n",
    "        count_3 = count_2 = count_1 = n\n",
    "        if i % 3 == 0:\n",
    "            count_3 = dp[int(i/3)]\n",
    "        if i % 2 == 0:\n",
    "            count_2 = dp[int(i/2)]\n",
    "        if i - 1 >= 0:\n",
    "            count_1 = dp[i-1]\n",
    "        \n",
    "        dp.append(min(count_3+1, count_2+1, count_1+1))\n",
    "        \n",
    "        if count_3 <= min(count_2, count_1):\n",
    "            array.append(int(i/3))\n",
    "        elif count_2 <= min(count_3, count_1):\n",
    "            array.append(int(i/2))\n",
    "        elif count_1 <= min(count_3, count_2):\n",
    "            array.append(i-1)\n",
    "#     print(dp)\n",
    "#     print(array)\n",
    "    array_2 = [n]\n",
    "#     print(array_2)\n",
    "    for i in range(dp[n]):\n",
    "#         print(array[n])\n",
    "        array_2.append(array[n])\n",
    "        n = array[n]\n",
    "    array_2.reverse()\n",
    "    \n",
    "    return array_2"
   ],
   "outputs": [],
   "metadata": {}
  },
  {
   "cell_type": "code",
   "execution_count": null,
   "source": [
    "sequence = dp_approach(1)\n",
    "print(len(sequence) - 1)\n",
    "for x in sequence:\n",
    "    print(x, end=' ')"
   ],
   "outputs": [],
   "metadata": {}
  },
  {
   "cell_type": "code",
   "execution_count": null,
   "source": [
    "# A Space efficient Dynamic Programming\n",
    "# based Python3 program to find minimum\n",
    "# number operations to convert str1 to str2\n",
    "def EditDistDP(str1, str2):\n",
    "\t\n",
    "\tlen1 = len(str1)\n",
    "\tlen2 = len(str2)\n",
    "\n",
    "\t# Create a DP array to memoize result\n",
    "\t# of previous computations\n",
    "\tDP = [[0 for i in range(len1 + 1)] \n",
    "\t\t\tfor j in range(2)];\n",
    "\n",
    "\t# Base condition when second String\n",
    "\t# is empty then we remove all characters\n",
    "\tfor i in range(0, len1 + 1):\n",
    "\t\tDP[0][i] = i\n",
    "\n",
    "\t# Start filling the DP\n",
    "\t# This loop run for every\n",
    "\t# character in second String\n",
    "\tfor i in range(1, len2 + 1):\n",
    "\t\t\n",
    "\t\t# This loop compares the char from\n",
    "\t\t# second String with first String\n",
    "\t\t# characters\n",
    "\t\tfor j in range(0, len1 + 1):\n",
    "\n",
    "\t\t\t# If first String is empty then\n",
    "\t\t\t# we have to perform add character\n",
    "\t\t\t# operation to get second String\n",
    "\t\t\tif (j == 0):\n",
    "\t\t\t\tDP[i % 2][j] = i\n",
    "\n",
    "\t\t\t# If character from both String\n",
    "\t\t\t# is same then we do not perform any\n",
    "\t\t\t# operation . here i % 2 is for bound\n",
    "\t\t\t# the row number.\n",
    "\t\t\telif(str1[j - 1] == str2[i-1]):\n",
    "\t\t\t\tDP[i % 2][j] = DP[(i - 1) % 2][j - 1]\n",
    "\t\t\t\n",
    "\t\t\t# If character from both String is\n",
    "\t\t\t# not same then we take the minimum\n",
    "\t\t\t# from three specified operation\n",
    "\t\t\telse:\n",
    "\t\t\t\tDP[i % 2][j] = (1 + min(DP[(i - 1) % 2][j], \n",
    "\t\t\t\t\t\t\t\t\tmin(DP[i % 2][j - 1], \n",
    "\t\t\t\t\t\t\t\tDP[(i - 1) % 2][j - 1])))\n",
    "\t\t\t\n",
    "\t# After complete fill the DP array\n",
    "\t# if the len2 is even then we end\n",
    "\t# up in the 0th row else we end up\n",
    "\t# in the 1th row so we take len2 % 2\n",
    "\t# to get row\n",
    "\treturn(DP[len2 % 2][len1])\n",
    "\n",
    "# Driver code\n",
    "if __name__ == '__main__':\n",
    "\t\n",
    "\tstr1 = \"food\"\n",
    "\tstr2 = \"money\"\n",
    "\t\n",
    "\tEditDistDP(str1, str2)\n",
    "\n",
    "# This code is contributed by gauravrajput1\n"
   ],
   "outputs": [],
   "metadata": {}
  },
  {
   "cell_type": "code",
   "execution_count": null,
   "source": [
    "EditDistDP('short', 'ports')"
   ],
   "outputs": [],
   "metadata": {}
  },
  {
   "cell_type": "markdown",
   "source": [
    "## Distance "
   ],
   "metadata": {}
  },
  {
   "cell_type": "code",
   "execution_count": null,
   "source": [
    "import numpy as np\r\n",
    "\r\n",
    "## Basic rule: Delete + 1, Addition + 1, Substituition + 2\r\n",
    "\r\n",
    "def edit_dis_new(target, source):\r\n",
    "    target = '#' + target\r\n",
    "    source = '#' + source\r\n",
    "    \r\n",
    "    target = [k for k in target]\r\n",
    "    source = [k for k in source]\r\n",
    "    sol = np.zeros((len(source), len(target)))\r\n",
    "    \r\n",
    "    # Set row and columns\r\n",
    "    sol[0] = [j for j in range(len(target))]\r\n",
    "    sol[:,0] = [j for j in range(len(source))]\r\n",
    "    \r\n",
    "    # Anchor value\r\n",
    "    if target[1] != source[1]:\r\n",
    "        sol[1,1] = 2\r\n",
    "        \r\n",
    "    for c in range(1, len(target)):\r\n",
    "        for r in range(1, len(source)):\r\n",
    "            if target[c] != source[r]:\r\n",
    "                # Not the same letter\r\n",
    "                sol[r,c] = min(sol[r-1,c], sol[r,c-1]) + 1\r\n",
    "            else:\r\n",
    "                # Same letter so shift the value \r\n",
    "                sol[r,c] = sol[r-1,c-1]\r\n",
    "    \r\n",
    "    return int(sol[-1][-1]) ## Get the last element"
   ],
   "outputs": [],
   "metadata": {}
  },
  {
   "cell_type": "code",
   "execution_count": null,
   "source": [
    "a = edit_dis_new('short', 'sports')\n",
    "a"
   ],
   "outputs": [],
   "metadata": {}
  },
  {
   "cell_type": "code",
   "execution_count": null,
   "source": [
    "anything = input(\"Tell me anything...\")\n",
    "print(\"Hmm...\", anything, \"...Really?\")"
   ],
   "outputs": [],
   "metadata": {}
  },
  {
   "cell_type": "code",
   "execution_count": null,
   "source": [
    "fnam = input(\"May I have your first name, please? \")\n",
    "lnam = input(\"May I have your last name, please? \")\n",
    "print(\"Thank you.\")\n",
    "print(\"\\nYour name is \" + fnam + \" \" + lnam + \".\")"
   ],
   "outputs": [],
   "metadata": {}
  },
  {
   "cell_type": "markdown",
   "source": [
    "## Partition"
   ],
   "metadata": {}
  },
  {
   "cell_type": "code",
   "execution_count": null,
   "source": [
    "\r\n",
    "def findPartition(arr):\r\n",
    "    n = len(arr)\r\n",
    "    sum_val = 0\r\n",
    "    i, j = 0, 0\r\n",
    " \r\n",
    "    # calculate sum of all elements\r\n",
    "    for i in range(n):\r\n",
    "        sum_val += arr[i]\r\n",
    " \r\n",
    "    if sum_val % 2 != 0:\r\n",
    "        return 0\r\n",
    " \r\n",
    "    part = [[True for i in range(n + 1)]\r\n",
    "            for j in range(sum_val // 2 + 1)]\r\n",
    " \r\n",
    "    # initialize top row as true\r\n",
    "    for i in range(0, n + 1):\r\n",
    "        part[0][i] = True\r\n",
    " \r\n",
    "    # initialize leftmost column,\r\n",
    "    # except part[0][0], as 0\r\n",
    "    for i in range(1, sum_val // 2 + 1):\r\n",
    "        part[i][0] = False\r\n",
    " \r\n",
    "    # fill the partition table in\r\n",
    "    # bottom up manner\r\n",
    "    for i in range(1, sum_val // 2 + 1):\r\n",
    " \r\n",
    "        for j in range(1, n + 1):\r\n",
    "            part[i][j] = part[i][j - 1]\r\n",
    " \r\n",
    "            if i >= arr[j - 1]:\r\n",
    "                part[i][j] = (part[i][j] or\r\n",
    "                              part[i - arr[j - 1]][j - 1])\r\n",
    "    \r\n",
    "    if part[sum_val // 2][n] == True:\r\n",
    "        return 0\r\n",
    "    else:\r\n",
    "        return 1"
   ],
   "outputs": [],
   "metadata": {}
  },
  {
   "cell_type": "code",
   "execution_count": null,
   "source": [
    "findPartition([3, 3, 3, 3])"
   ],
   "outputs": [],
   "metadata": {}
  },
  {
   "cell_type": "code",
   "execution_count": null,
   "source": [
    "## Partition\n",
    "# Uses python3\n",
    "import sys\n",
    "import itertools\n",
    "\n",
    "def findPartition(arr):\n",
    "    n = len(arr)\n",
    "    sum_val = 0\n",
    "    i, j = 0, 0\n",
    " \n",
    "    # calculate sum of all elements\n",
    "    for i in range(n):\n",
    "        sum_val += arr[i]\n",
    " \n",
    "    if sum_val % 2 != 0:\n",
    "        return 0\n",
    " \n",
    "    part = [[True for i in range(n + 1)] for j in range(sum_val // 2 + 1)]\n",
    " \n",
    "    # initialize top row as true\n",
    "    for i in range(0, n + 1):\n",
    "        part[0][i] = True\n",
    " \n",
    "    # initialize leftmost column,\n",
    "    # except part[0][0], as 0\n",
    "    for i in range(1, sum_val // 2 + 1):\n",
    "        part[i][0] = False\n",
    " \n",
    "    # fill the partition table in\n",
    "    # bottom up manner\n",
    "    for i in range(1, sum_val // 2 + 1):\n",
    " \n",
    "        for j in range(1, n + 1):\n",
    "            part[i][j] = part[i][j - 1]\n",
    " \n",
    "            if i >= arr[j - 1]:\n",
    "                part[i][j] = (part[i][j] or\n",
    "                              part[i - arr[j - 1]][j - 1])\n",
    "    \n",
    "    if part[sum_val // 2][n] == True:\n",
    "        return 1\n",
    "    else:\n",
    "        return 0\n",
    "\n",
    "if __name__ == '__main__':\n",
    "    input = sys.stdin.read()\n",
    "    n, *A = list(map(int, input.split()))\n",
    "    print(findPartition(A))"
   ],
   "outputs": [],
   "metadata": {}
  },
  {
   "cell_type": "markdown",
   "source": [
    "## Prime Optimization"
   ],
   "metadata": {}
  },
  {
   "cell_type": "markdown",
   "source": [
    "Instead of checking till n, we can check till √n because a larger factor of n must be a multiple of a smaller factor that has been already checked.\n",
    "The algorithm can be improved further by observing that all primes are of the form 6k ± 1, with the exception of 2 and 3. This is because all integers can be expressed as (6k + i) for some integer k and for i = ?1, 0, 1, 2, 3, or 4; 2 divides (6k + 0), (6k + 2), (6k + 4); and 3 divides (6k + 3). So a more efficient method is to test if n is divisible by 2 or 3, then to check through all the numbers of form 6k ± 1. (Source: wikipedia)"
   ],
   "metadata": {}
  },
  {
   "cell_type": "code",
   "execution_count": null,
   "source": [
    "def isPrime(n) : \r\n",
    " \r\n",
    "    # Corner cases \r\n",
    "    if (n <= 1) : \r\n",
    "        return False\r\n",
    "    if (n <= 3) : \r\n",
    "        return True\r\n",
    " \r\n",
    "    # This is checked so that we can skip \r\n",
    "    # middle five numbers in below loop \r\n",
    "    if (n % 2 == 0 or n % 3 == 0) : \r\n",
    "        return False\r\n",
    " \r\n",
    "    i = 5\r\n",
    "    while(i * i <= n) : \r\n",
    "        if (n % i == 0 or n % (i + 2) == 0) : \r\n",
    "            return False\r\n",
    "        i = i + 6\r\n",
    " \r\n",
    "    return True\r\n",
    " "
   ],
   "outputs": [],
   "metadata": {}
  },
  {
   "cell_type": "code",
   "execution_count": null,
   "source": [
    "def isPrime(num):\n",
    "    if (num <2):\n",
    "        return print(\"Error\")\n",
    "    for i in range(2, num):\n",
    "#         print(i)\n",
    "        if num%i == 0:\n",
    "            return False\n",
    "            break\n",
    "    return True\n",
    "# for i in range(1, 20):\n",
    "# \tif isPrime(i + 1):\n",
    "# \t\t\tprint(i + 1, end=\" \")"
   ],
   "outputs": [],
   "metadata": {}
  },
  {
   "cell_type": "code",
   "execution_count": null,
   "source": [
    "isPrime(13)"
   ],
   "outputs": [],
   "metadata": {}
  },
  {
   "cell_type": "markdown",
   "source": [
    "## Buble sort"
   ],
   "metadata": {}
  },
  {
   "cell_type": "code",
   "execution_count": null,
   "source": [
    "myList = [8, 10, 6, 2, 4] # list to sort\r\n",
    "swapped = True # it's a little fake - we need it to enter the while loop\r\n",
    "\r\n",
    "while swapped:\r\n",
    "    swapped = False # no swaps so far\r\n",
    "    for i in range(len(myList) - 1):\r\n",
    "        if myList[i] > myList[i + 1]:\r\n",
    "            swapped = True # swap occured!\r\n",
    "            myList[i], myList[i + 1] = myList[i + 1], myList[i]\r\n",
    "\r\n",
    "print(myList)"
   ],
   "outputs": [],
   "metadata": {}
  },
  {
   "cell_type": "code",
   "execution_count": null,
   "source": [
    "def bubble_sort(arr):\n",
    "    swapped = False\n",
    "    while not swapped:\n",
    "        swapped = True\n",
    "        for i in range(len(arr) - 1):\n",
    "            if arr[i] > arr[i+1]:\n",
    "                swapped = False\n",
    "                arr[i], arr[i+1] = arr[i+1], arr[i]\n",
    "    return arr"
   ],
   "outputs": [],
   "metadata": {}
  },
  {
   "cell_type": "code",
   "execution_count": null,
   "source": [
    "# a = [int(x) for x in input(\"Enter two value: \").split(\",\")]\n",
    "a = [4,1,6,2,7,8,9,12,56,100]\n",
    "bubble_sort(a)"
   ],
   "outputs": [],
   "metadata": {}
  },
  {
   "cell_type": "markdown",
   "source": [
    "## Sterling set numbers"
   ],
   "metadata": {}
  },
  {
   "cell_type": "code",
   "execution_count": null,
   "source": [
    "def sterling2(n, k):\r\n",
    "        computed = {}\r\n",
    "\r\n",
    "        key = str(n) + \",\" + str(k)\r\n",
    "\r\n",
    "        if key in computed.keys():\r\n",
    "            return computed[key]\r\n",
    "        if n == k == 0:\r\n",
    "            return 1\r\n",
    "        if (n > 0 and k == 0) or (n == 0 and k > 0):\r\n",
    "            return 0\r\n",
    "        if n == k:\r\n",
    "            return 1\r\n",
    "        if k > n:\r\n",
    "            return 0\r\n",
    "        result = k * sterling2(n - 1, k) + sterling2(n - 1, k - 1)\r\n",
    "        computed[key] = result\r\n",
    "        return result"
   ],
   "outputs": [],
   "metadata": {}
  },
  {
   "cell_type": "code",
   "execution_count": null,
   "source": [
    "sterling2(4,3) + sterling2(4,2) + sterling2(4,1)"
   ],
   "outputs": [],
   "metadata": {}
  },
  {
   "cell_type": "markdown",
   "source": [
    "## Leetcode"
   ],
   "metadata": {}
  },
  {
   "cell_type": "code",
   "execution_count": 6,
   "source": [
    "# Solution Leetcode \r\n",
    "class Solution:\r\n",
    "    def isAnagram(self, s: str, t: str) -> bool:\r\n",
    "        flag = True\r\n",
    "        \r\n",
    "        if len(t)!=len(s):\r\n",
    "            return False\r\n",
    "        elif len(t)==1 and len(s)==1:\r\n",
    "            return s[0]==t[0]\r\n",
    "        else:\r\n",
    "            new_s = sorted(s)\r\n",
    "            new_t = sorted(t)\r\n",
    "\r\n",
    "            for i in range(len(new_s)-1):\r\n",
    "                if new_s[i] != new_t[i]:\r\n",
    "                    flag = False\r\n",
    "                    break\r\n",
    "\r\n",
    "            return flag\r\n",
    "    \r\n",
    "    def maxCoins(self, piles) -> int:\r\n",
    "        num_triplet = len(piles)//3\r\n",
    "        bob_indx = len(piles) - num_triplet\r\n",
    "        new_piles = sorted(piles,reverse=True)[:bob_indx]\r\n",
    "        value = 0\r\n",
    "\r\n",
    "        for index in range(len(new_piles)):\r\n",
    "            if (index%2 != 0):\r\n",
    "                print(\"Your index {}\".format(index))\r\n",
    "                value += new_piles[index]\r\n",
    "\r\n",
    "        return value\r\n",
    "                \r\n",
    "s = \"anagram\" \r\n",
    "t = \"nagaram\" \r\n",
    "a = Solution()           \r\n",
    "print(\"Check Anagram\", a.isAnagram(s,t))\r\n",
    "a.maxCoins([9,8,7,6,5,1,2,3,4])"
   ],
   "outputs": [
    {
     "output_type": "stream",
     "name": "stdout",
     "text": [
      "Your index 1\n",
      "Your index 3\n",
      "Your index 5\n"
     ]
    },
    {
     "output_type": "execute_result",
     "data": {
      "text/plain": [
       "18"
      ]
     },
     "metadata": {},
     "execution_count": 6
    }
   ],
   "metadata": {}
  },
  {
   "cell_type": "code",
   "execution_count": null,
   "source": [],
   "outputs": [],
   "metadata": {}
  }
 ],
 "metadata": {
  "interpreter": {
   "hash": "176b3b78ef9c648dbeafa17d418c7b27a5ea250ebf1b30a944a642d4bcfe3ecd"
  },
  "kernelspec": {
   "name": "python3",
   "display_name": "Python 3.8.11 64-bit ('longnv': conda)"
  },
  "language_info": {
   "codemirror_mode": {
    "name": "ipython",
    "version": 3
   },
   "file_extension": ".py",
   "mimetype": "text/x-python",
   "name": "python",
   "nbconvert_exporter": "python",
   "pygments_lexer": "ipython3",
   "version": "3.8.11"
  }
 },
 "nbformat": 4,
 "nbformat_minor": 4
}