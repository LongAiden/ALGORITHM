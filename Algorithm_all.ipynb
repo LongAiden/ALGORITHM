{
 "cells": [
  {
   "cell_type": "code",
   "execution_count": null,
   "metadata": {},
   "outputs": [],
   "source": [
    "import time\n",
    "import pandas as pd\n",
    "import numpy as np\n",
    "\n",
    "# start = time.time()\n",
    "# print(\"hello\")\n",
    "# end = time.time()\n",
    "# print(end - start)"
   ]
  },
  {
   "cell_type": "markdown",
   "metadata": {},
   "source": [
    "## GCD (Greatest Common Divisor)"
   ]
  },
  {
   "cell_type": "code",
   "execution_count": null,
   "metadata": {},
   "outputs": [],
   "source": [
    "def GCD(a,b):\n",
    "    if b == 0:\n",
    "        return a\n",
    "    else:\n",
    "        a_new = a%b\n",
    "    return GCD(b, a_new)"
   ]
  },
  {
   "cell_type": "code",
   "execution_count": null,
   "metadata": {},
   "outputs": [],
   "source": [
    "GCD(3918848,1653264)"
   ]
  },
  {
   "cell_type": "code",
   "execution_count": null,
   "metadata": {},
   "outputs": [],
   "source": [
    "GCD(1653264,3918848)"
   ]
  },
  {
   "cell_type": "markdown",
   "metadata": {},
   "source": [
    "## Fibonaci"
   ]
  },
  {
   "cell_type": "markdown",
   "metadata": {},
   "source": [
    "### Find the n-th of Finbonaci"
   ]
  },
  {
   "cell_type": "code",
   "execution_count": null,
   "metadata": {},
   "outputs": [],
   "source": [
    "def fib(n):\n",
    "    if (n <= 1):\n",
    "        return n\n",
    "    else:\n",
    "        f = list(range(0,n+1))\n",
    "        f[0] = 0\n",
    "        f[1] = 1\n",
    "        for i in range(2,n+1):\n",
    "            f[i] = f[i-1] + f[i-2]\n",
    "        return f[-1]"
   ]
  },
  {
   "cell_type": "code",
   "execution_count": null,
   "metadata": {},
   "outputs": [],
   "source": [
    "print(fib(100))"
   ]
  },
  {
   "cell_type": "markdown",
   "metadata": {},
   "source": [
    "### Memo method - Dynamic way"
   ]
  },
  {
   "cell_type": "code",
   "execution_count": null,
   "metadata": {},
   "outputs": [],
   "source": [
    "def fib(n):\n",
    "    if n in memo:\n",
    "        return memo[n]\n",
    "    if n<=2: \n",
    "        f = 1\n",
    "    else:\n",
    "        f = fib(n-1)+fib(n-2)\n",
    "    memo[n]=f\n",
    "    return f"
   ]
  },
  {
   "cell_type": "code",
   "execution_count": null,
   "metadata": {},
   "outputs": [],
   "source": [
    "memo = {}\n",
    "print(fib(100), memo)"
   ]
  },
  {
   "cell_type": "code",
   "execution_count": null,
   "metadata": {},
   "outputs": [],
   "source": [
    "def fib_ia(n):\n",
    "    return pow(2 << n, n+1, (4 << 2 * n) - (2 << n)-1) % (2 << n)"
   ]
  },
  {
   "cell_type": "code",
   "execution_count": null,
   "metadata": {},
   "outputs": [],
   "source": [
    "fib_ia(100)"
   ]
  },
  {
   "cell_type": "markdown",
   "metadata": {},
   "source": [
    "### Other"
   ]
  },
  {
   "cell_type": "code",
   "execution_count": null,
   "metadata": {},
   "outputs": [],
   "source": [
    "def fib_last_digit(n):\n",
    "    if n == 1:\n",
    "        return n\n",
    "    else:\n",
    "        f = list(range(0,n+1))\n",
    "        f[0] = 0\n",
    "        f[1] = 1\n",
    "        for i in range(2,n+1):\n",
    "            f[i] = f[i-1] + f[i-2]\n",
    "            f[i] = f[i]%10\n",
    "        return f[-1]\n"
   ]
  },
  {
   "cell_type": "code",
   "execution_count": null,
   "metadata": {},
   "outputs": [],
   "source": [
    "n = int(input())\n",
    "if n<=1:\n",
    "    print(n)\n",
    "    \n",
    "def lastdigitfibo(n):\n",
    "    a, b = 0, 1\n",
    "    for _ in range(n-1):\n",
    "        c = a + b\n",
    "        c = c%10\n",
    "        b, a = c, b\n",
    "    print(c)\n",
    "\n",
    "fib_last_digit(n)"
   ]
  },
  {
   "cell_type": "markdown",
   "metadata": {},
   "source": [
    "## Change Coin"
   ]
  },
  {
   "cell_type": "code",
   "execution_count": null,
   "metadata": {},
   "outputs": [],
   "source": [
    "def get_change(m):\n",
    "    if (m <0)|(m>1000):\n",
    "        return print(\"Wrong number\")\n",
    "    elif m == 0:\n",
    "        return m\n",
    "    else:\n",
    "        coin_10 = m//10\n",
    "        coin_5 = (m%10)//5\n",
    "        coin_1 = (m%10%5)\n",
    "        count = coin_10 + coin_5 + coin_1       \n",
    "    return count"
   ]
  },
  {
   "cell_type": "code",
   "execution_count": null,
   "metadata": {},
   "outputs": [],
   "source": [
    "get_change(98)"
   ]
  },
  {
   "cell_type": "code",
   "execution_count": null,
   "metadata": {},
   "outputs": [],
   "source": [
    "def count(S, m, n): \n",
    "  \n",
    "    # table[i] will be storing the number of solutions for \n",
    "    # value i. We need n+1 rows as the table is constructed \n",
    "    # in bottom up manner using the base case (n = 0) \n",
    "    # Initialize all table values as 0 \n",
    "    table = [0 for k in range(n+1)] \n",
    "  \n",
    "    # Base case (If given value is 0) \n",
    "    table[0] = 1\n",
    "  \n",
    "    # Pick all coins one by one and update the table[] values \n",
    "    # after the index greater than or equal to the value of the \n",
    "    # picked coin \n",
    "    for i in range(0,m): \n",
    "        print(\"Coin\",S[i])\n",
    "        for j in range(S[i],n+1):\n",
    "            print(j)\n",
    "            table[j] += table[j-S[i]] \n",
    "            print(table)\n",
    "  \n",
    "    return table[n] \n",
    "  \n",
    "# Driver program to test above function \n",
    "# arr = [1,2,5,10,20,50,100,200,500] \n",
    "arr = [1,3,4] \n",
    "m = len(arr) \n",
    "n = 4\n",
    "x = count(arr, m, n) \n",
    "print (\"Result\", x) "
   ]
  },
  {
   "cell_type": "code",
   "execution_count": null,
   "metadata": {},
   "outputs": [],
   "source": [
    "def dpMakeChange(coinValueList,change):\n",
    "    minCoins = [0]*(change+1)\n",
    "    for cents in range(change+1):\n",
    "        coinCount = cents\n",
    "#         print(cents)\n",
    "#         print(\"BF\",minCoins)\n",
    "        for j in [c for c in coinValueList if c <= cents]:\n",
    "            if minCoins[cents-j] + 1 < coinCount:\n",
    "                coinCount = minCoins[cents-j]+1\n",
    "        minCoins[cents] = coinCount\n",
    "#         print(\"AF\",minCoins)\n",
    "    return minCoins[change]"
   ]
  },
  {
   "cell_type": "code",
   "execution_count": null,
   "metadata": {},
   "outputs": [],
   "source": [
    "def min_coin_change(value):\n",
    "    list_coin = [1,3,4]\n",
    "    min_coins = [0]*(value+1) ## Create value range\n",
    "    for coin in range(value+1):\n",
    "        count = coin\n",
    "        for i in [c for c in list_coin if c <= coin]:\n",
    "            if min_coins[coin - i] + 1 < count:\n",
    "                count = min_coins[coin - i] + 1\n",
    "        min_coins[coin] = count\n",
    "    return min_coins[value]"
   ]
  },
  {
   "cell_type": "code",
   "execution_count": null,
   "metadata": {},
   "outputs": [],
   "source": [
    "# clist = [1,5,10,21,25]\n",
    "# min_coin_change(clist, 63)\n",
    "\n",
    "clist = [1,3,4]\n",
    "min_coin_change(34)"
   ]
  },
  {
   "cell_type": "markdown",
   "metadata": {},
   "source": [
    "## Knapsack"
   ]
  },
  {
   "cell_type": "code",
   "execution_count": null,
   "metadata": {},
   "outputs": [],
   "source": [
    "data = [5,100,3,50,60,20,100,50,120,30]\n",
    "n, capacity = data[0:2]\n",
    "values = data[2:(2 * n + 2):2]\n",
    "weights = data[3:(2 * n + 2):2]"
   ]
  },
  {
   "cell_type": "code",
   "execution_count": null,
   "metadata": {},
   "outputs": [],
   "source": [
    "proportion = [float(v) / float(w) for v, w in zip(values, weights)]\n",
    "print(proportion.index(max(proportion)))\n",
    "print(proportion)"
   ]
  },
  {
   "cell_type": "code",
   "execution_count": null,
   "metadata": {},
   "outputs": [],
   "source": [
    "print(values)\n",
    "print(weights)"
   ]
  },
  {
   "cell_type": "code",
   "execution_count": null,
   "metadata": {},
   "outputs": [],
   "source": [
    "def get_optimal_value(capacity, weights, values):\n",
    "    value = 0.\n",
    "    proportion = [float(v) / float(w) for v, w in zip(values, weights)]\n",
    "\n",
    "    a = list(range(0,len(weights)+1))\n",
    "    for _ in range(0,len(weights)+1):\n",
    "        if (capacity == 0)|(capacity<0)|(capacity>100):\n",
    "            return value\n",
    "            break\n",
    "        max_w = max(proportion)\n",
    "        index = proportion.index(max(proportion))\n",
    "        proportion[index] = -1 # for each iteration, remove the max item \n",
    "        \n",
    "        print(index)\n",
    "        \n",
    "        current = min(weights[index], capacity)\n",
    "        value += current * max_w\n",
    "        weights[index] = weights[index] - current\n",
    "        capacity = capacity - current\n",
    "    return value"
   ]
  },
  {
   "cell_type": "code",
   "execution_count": null,
   "metadata": {},
   "outputs": [],
   "source": [
    "get_optimal_value(capacity, weights, values)"
   ]
  },
  {
   "cell_type": "code",
   "execution_count": null,
   "metadata": {},
   "outputs": [],
   "source": [
    "def optimal_weight(W, w):\n",
    "    \"\"\"Knapsack without repetitions.\n",
    "    It's given a set of bars of gold and the goal is to take as much gold as\n",
    "    possible into the bag. There is just one copy of each bar and for each bar\n",
    "    you can either take it or not (hence you cannot take a fraction of a bar).\n",
    "    Samples:\n",
    "    >>> optimal_weight(10, [1, 4, 8])\n",
    "    9\n",
    "    >>> # Explanation:\n",
    "    >>> # The sum of the weights of the first and the last bar is equal to 9.\n",
    "    >>> #\n",
    "    >>> # Weight matrix:\n",
    "    >>> #\n",
    "    >>> #                  W(i)\n",
    "    >>> #          0 1 2 3 4 5 6 7 8 9 10\n",
    "    >>> #        +-----------------------\n",
    "    >>> #        | 0 0 0 0 0 0 0 0 0 0 0\n",
    "    >>> #      1 | 0 1 1 1 1 1 1 1 1 1 1\n",
    "    >>> # w(j) 4 | 0 1 1 1 1 5 5 5 5 5 5\n",
    "    >>> #      8 | 0 1 1 1 1 5 5 5 5 9 9\n",
    "    >>> #        +-----------------------\n",
    "    \"\"\"\n",
    "    w = [0] + w\n",
    "    items = len(w)\n",
    "    capacity = W +1\n",
    "\n",
    "    # Create a weight matrix and write in initial values.\n",
    "    weights = [[0 for _ in range(items)] for _ in range(capacity)]\n",
    "\n",
    "    for j in range(1, items):\n",
    "        for i in range(1, capacity):\n",
    "            prev = weights[i][j - 1]\n",
    "            cur = w[j] + weights[W - w[j]][j - 1]\n",
    "            if cur > i:\n",
    "                weights[i][j] = prev\n",
    "            else:\n",
    "                weights[i][j] = max(prev, cur)\n",
    "\n",
    "    return weights[-1][-1] + 1"
   ]
  },
  {
   "cell_type": "code",
   "execution_count": null,
   "metadata": {},
   "outputs": [],
   "source": [
    "import pandas as pd\n",
    "\n",
    "# weight equals value\n",
    "def optimal_weight(W, w):\n",
    "    golds = [0] + w\n",
    "\n",
    "    gold_df = [[0 for _ in range(W+1)] for _ in range(len(golds))]\n",
    "\n",
    "    for weight in range(1, W+1):\n",
    "        for i in range(1, len(golds)):\n",
    "            gold_df[i][weight] = gold_df[i-1][weight]\n",
    "            if golds[i] <= weight:\n",
    "                gold_df[i][weight] = max(gold_df[i-1][weight-golds[i]] + golds[i], gold_df[i-1][weight])\n",
    "\n",
    "    return pd.DataFrame(gold_df, index=golds)"
   ]
  },
  {
   "cell_type": "code",
   "execution_count": null,
   "metadata": {},
   "outputs": [],
   "source": [
    "optimal_weight(10,[1,4,8])"
   ]
  },
  {
   "cell_type": "code",
   "execution_count": null,
   "metadata": {},
   "outputs": [],
   "source": [
    "# weight with different value\n",
    "def optimal_weight_value(W, w, v):\n",
    "    w = [0] + w\n",
    "    v = [0] + v\n",
    "\n",
    "    v_dict=dict(zip(w, v))\n",
    "\n",
    "    df = [[0 for _ in range(W+1)] for _ in range(len(w))]\n",
    "    select = {}\n",
    "\n",
    "    for weight in range(1, W+1):\n",
    "        for i in range(1, len(w)):\n",
    "            df[i][weight] = df[i-1][weight]\n",
    "            if w[i] <= weight:\n",
    "                df[i][weight] = max(df[i-1][weight-w[i]] + v_dict[w[i]], df[i-1][weight])\n",
    "\n",
    "    w_remain=W\n",
    "    for i in reversed(range(1, len(w))):\n",
    "        if (df[i][-1] > df[i-1][-1])&(w_remain>=w[i]):\n",
    "            select[w[i]]= v_dict[w[i]]\n",
    "            w_remain = w_remain-w[i]\n",
    "\n",
    "    return print(pd.DataFrame(df, index=w)), select\n",
    "\n",
    "optimal_weight_value(7, [1,3,4,5], [1,4,5,7])"
   ]
  },
  {
   "cell_type": "code",
   "execution_count": null,
   "metadata": {},
   "outputs": [],
   "source": [
    "[[0 for _ in range(7+1)] for _ in range(len([0,1,3,4,5]))]"
   ]
  },
  {
   "cell_type": "code",
   "execution_count": null,
   "metadata": {},
   "outputs": [],
   "source": [
    "# A Dynamic Programming based Python \n",
    "# Program for 0-1 Knapsack problem \n",
    "# Returns the maximum value that can \n",
    "# be put in a knapsack of capacity W \n",
    "def knapSack(W, wt, val, n): \n",
    "\tK = [[0 for x in range(W + 1)] for x in range(n + 1)] \n",
    "\n",
    "\t# Build table K[][] in bottom up manner \n",
    "\tfor i in range(n + 1): \n",
    "\t\tfor w in range(W + 1): \n",
    "\t\t\tif i == 0 or w == 0: \n",
    "\t\t\t\tK[i][w] = 0\n",
    "\t\t\telif wt[i-1] <= w: \n",
    "\t\t\t\tK[i][w] = max(val[i-1] + K[i-1][w-wt[i-1]], K[i-1][w]) \n",
    "\t\t\telse: \n",
    "\t\t\t\tK[i][w] = K[i-1][w] \n",
    "\n",
    "\treturn K[n][W] \n",
    "\n",
    "# Driver program to test above function \n",
    "val = [60, 100, 120] \n",
    "wt = [10, 20, 30] \n",
    "W = 50\n",
    "n = len(val) \n",
    "print(knapSack(W, wt, val, n)) \n",
    "# This code is contributed by Bhavya Jain \n"
   ]
  },
  {
   "cell_type": "code",
   "execution_count": null,
   "metadata": {},
   "outputs": [],
   "source": [
    "knapSack(20, [5, 7, 12, 18])"
   ]
  },
  {
   "cell_type": "markdown",
   "metadata": {},
   "source": [
    "## Car Fueling"
   ]
  },
  {
   "cell_type": "code",
   "execution_count": null,
   "metadata": {},
   "outputs": [],
   "source": [
    "def compute_min_refills(dist, miles, gas_stations):\n",
    "    num_refill, curr_refill, limit = 0, 0, miles\n",
    "    while limit < dist:  # While the destination cannot be reached with current fuel\n",
    "        if curr_refill >= len(gas_stations) or gas_stations[curr_refill] > limit:\n",
    "            # Cannot reach the destination nor the next gas station\n",
    "            return -1\n",
    "        # Find the furthest gas station we can reach\n",
    "        while curr_refill < len(gas_stations)-1 and gas_stations[curr_refill+1] <= limit:\n",
    "            curr_refill += 1\n",
    "        num_refill += 1  # Stop to tank\n",
    "        limit = gas_stations[curr_refill] + miles  # Fill up the tank \n",
    "        curr_refill += 1\n",
    "    return num_refill"
   ]
  },
  {
   "cell_type": "code",
   "execution_count": null,
   "metadata": {},
   "outputs": [],
   "source": [
    "distance = 950\n",
    "tank = 400\n",
    "stops = [200,375,550,750]\n",
    "_ = len(stops)"
   ]
  },
  {
   "cell_type": "code",
   "execution_count": null,
   "metadata": {},
   "outputs": [],
   "source": [
    "compute_min_refills(distance, tank, stops)"
   ]
  },
  {
   "cell_type": "markdown",
   "metadata": {},
   "source": [
    "## Max Dot Product"
   ]
  },
  {
   "cell_type": "code",
   "execution_count": null,
   "metadata": {},
   "outputs": [],
   "source": [
    "def max_dot_product(a, b):\n",
    "    #write your code here\n",
    "    res = 0\n",
    "    a.sort(reverse = True)\n",
    "    b.sort(reverse = True)\n",
    "    for i in range(len(a)):\n",
    "        res += a[i] * b[i]\n",
    "    return res\n"
   ]
  },
  {
   "cell_type": "code",
   "execution_count": null,
   "metadata": {},
   "outputs": [],
   "source": [
    "a = [1,3,-5]\n",
    "b = [-2,4,1]\n",
    "max_dot_product(a,b)"
   ]
  },
  {
   "cell_type": "markdown",
   "metadata": {},
   "source": [
    "## Maximum number of prizes"
   ]
  },
  {
   "cell_type": "code",
   "execution_count": null,
   "metadata": {},
   "outputs": [],
   "source": [
    "def optimal_summands(n):\n",
    "    W = n\n",
    "    prizes = []\n",
    "    if (n<1)|(n>10**9):\n",
    "        return n\n",
    "    if (n==1):\n",
    "        return [1]\n",
    "    for i in range(1, n):\n",
    "        if W>2*i:\n",
    "            prizes.append(i)\n",
    "            W -= i\n",
    "        else:\n",
    "            prizes.append(W)\n",
    "            break\n",
    "    return prizes"
   ]
  },
  {
   "cell_type": "code",
   "execution_count": null,
   "metadata": {},
   "outputs": [],
   "source": [
    "optimal_summands(1)"
   ]
  },
  {
   "cell_type": "markdown",
   "metadata": {},
   "source": [
    "## Maximum Salary"
   ]
  },
  {
   "cell_type": "code",
   "execution_count": null,
   "metadata": {},
   "outputs": [],
   "source": [
    "## Compose the largest number out of a set of integers\n",
    "def IsGreaterOrEqual(digit, max_digit):\n",
    "    return int(str(digit)+str(max_digit))>=int(str(max_digit)+str(digit))\n",
    "\n",
    "def largest_number(lst):\n",
    "    answer = []\n",
    "    \n",
    "    while lst!=[]:\n",
    "        max_digit = 0\n",
    "        for digit in lst:\n",
    "            if IsGreaterOrEqual(digit, max_digit):\n",
    "                max_digit = digit\n",
    "        answer.append(max_digit)\n",
    "        lst.remove(max_digit)\n",
    "\n",
    "    return int(''.join([str(i) for i in answer]))"
   ]
  },
  {
   "cell_type": "code",
   "execution_count": null,
   "metadata": {},
   "outputs": [],
   "source": [
    "test = [23,39,92]\n",
    "test1 = [9,4,6,1,9]\n",
    "largest_number(test1)"
   ]
  },
  {
   "cell_type": "markdown",
   "metadata": {},
   "source": [
    "## Collecting Signatures"
   ]
  },
  {
   "cell_type": "code",
   "execution_count": null,
   "metadata": {},
   "outputs": [],
   "source": [
    "n = int(input())\n",
    "lst = []\n",
    "\n",
    "for _ in range(n):\n",
    "    a, b = [int(i) for i in input().split()]\n",
    "    lst.append((a,b))\n",
    "\n",
    "def optimal_points(lst):\n",
    "    lst.sort(key = lambda x: x[1])\n",
    "\n",
    "    index = 0\n",
    "    coordinates = []\n",
    "\n",
    "    while index < n:\n",
    "        curr = lst[index]\n",
    "        while index < n-1 and curr[1]>=lst[index+1][0]:\n",
    "            print(index)\n",
    "            index += 1\n",
    "        coordinates.append(curr[1])\n",
    "        index += 1\n",
    "    return coordinates\n",
    "\n",
    "print(len(coordinates))\n",
    "print(' '.join([str(i) for i in coordinates]))"
   ]
  },
  {
   "cell_type": "code",
   "execution_count": null,
   "metadata": {},
   "outputs": [],
   "source": [
    "lst"
   ]
  },
  {
   "cell_type": "code",
   "execution_count": null,
   "metadata": {},
   "outputs": [],
   "source": [
    "def optimal_points(lst):\n",
    "    lst.sort(key = lambda x: x[1])\n",
    "\n",
    "    index = 0\n",
    "    coordinates = []\n",
    "\n",
    "    while index < n:\n",
    "        curr = lst[index]\n",
    "        while index < n-1 and curr[1]>=lst[index+1][0]:\n",
    "            index += 1\n",
    "        coordinates.append(curr[1])\n",
    "        index += 1\n",
    "    return coordinates"
   ]
  },
  {
   "cell_type": "code",
   "execution_count": null,
   "metadata": {},
   "outputs": [],
   "source": [
    "points = optimal_points(lst)\n",
    "print(len(points))\n",
    "print(*points)"
   ]
  },
  {
   "cell_type": "markdown",
   "metadata": {},
   "source": [
    "## QuickSort "
   ]
  },
  {
   "cell_type": "code",
   "execution_count": null,
   "metadata": {},
   "outputs": [],
   "source": [
    "def partition(arr, low, high): \n",
    "    i = (low-1)\n",
    "     # index of smaller element \n",
    "    pivot = arr[high]     # pivot \n",
    "    print(pivot)\n",
    "    for j in range(low, high): \n",
    "        # If current element is smaller than or \n",
    "        # equal to pivot \n",
    "#         print(\"Step\", j)\n",
    "        if arr[j] <= pivot: \n",
    "            # increment index of smaller element \n",
    "            i = i+1\n",
    "#             print(arr[i])\n",
    "#             print(arr[j])\n",
    "            arr[i], arr[j] = arr[j], arr[i] \n",
    "            \n",
    "    arr[i+1], arr[high] = arr[high], arr[i+1] \n",
    "    return (i+1) \n",
    "\n",
    "def quickSort(arr, low, high): \n",
    "    if len(arr) == 1: \n",
    "        return arr \n",
    "    if low < high: \n",
    "  \n",
    "        # pi is partitioning index, arr[p] is now \n",
    "        # at right place \n",
    "        pi = partition(arr, low, high) \n",
    "        print(\"Change pi\", pi)\n",
    "        # Separately sort elements before \n",
    "        # partition and after partition \n",
    "        quickSort(arr, low, pi-1) \n",
    "        print(arr)\n",
    "        quickSort(arr, pi+1, high)\n",
    "        print(arr)"
   ]
  },
  {
   "cell_type": "code",
   "execution_count": null,
   "metadata": {},
   "outputs": [],
   "source": [
    "def quick_sort(arr):\n",
    "    if len(arr) <= 1:\n",
    "        return arr\n",
    "    else:\n",
    "        pivot = arr.pop()\n",
    "\n",
    "    item_greater = []\n",
    "    item_lower = []\n",
    "    \n",
    "    for item in arr:\n",
    "        if item > pivot:\n",
    "            item_greater.append(item)\n",
    "        else: \n",
    "            item_lower.append(item)\n",
    "    \n",
    "    sorted_lower = quick_sort(item_lower)\n",
    "    sorted_greater = quick_sort(item_greater)\n",
    "    \n",
    "    return sorted_lower + [pivot] + sorted_greater"
   ]
  },
  {
   "cell_type": "code",
   "execution_count": null,
   "metadata": {},
   "outputs": [],
   "source": [
    "a = [12, 11, 13, 5, 6, 7, 54,26,93,17,77,31,44,55,20]\n",
    "quick_sort(a)"
   ]
  },
  {
   "cell_type": "code",
   "execution_count": null,
   "metadata": {},
   "outputs": [],
   "source": [
    "a = [12, 11, 13, 5, 6, 7, 54,26,93,17,77,31,44,55,20]\n",
    "n = len(a) \n",
    "quickSort(a, 0, n-1) "
   ]
  },
  {
   "cell_type": "markdown",
   "metadata": {},
   "source": [
    "## Binary Search"
   ]
  },
  {
   "cell_type": "code",
   "execution_count": null,
   "metadata": {},
   "outputs": [],
   "source": [
    "import math\n",
    "def binary_search_all(arr, value):\n",
    "    index = []\n",
    "    for key in value:\n",
    "        i = binary_search(arr, 0, len(arr) - 1, key)\n",
    "        index.append(i)\n",
    "    return index\n",
    "\n",
    "def binary_search(a, low, high, k):\n",
    "    index = []\n",
    "    while low <= high:\n",
    "        mid = (high+low)//2\n",
    "        if a[mid] > k:\n",
    "            high = mid - 1\n",
    "        elif a[mid] < k:\n",
    "            low = mid + 1\n",
    "        else:\n",
    "            return mid\n",
    "    return -1"
   ]
  },
  {
   "cell_type": "code",
   "execution_count": null,
   "metadata": {},
   "outputs": [],
   "source": [
    "# Submitted version\n",
    "def binary_search(a, k):\n",
    "    low = 0\n",
    "    high = len(a) - 1\n",
    "    while low <= high:\n",
    "        mid = (high+low)//2\n",
    "        if a[mid] > k:\n",
    "            high = mid - 1\n",
    "        elif a[mid] < k:\n",
    "            low = mid + 1\n",
    "        else:\n",
    "            return mid\n",
    "    return -1"
   ]
  },
  {
   "cell_type": "code",
   "execution_count": null,
   "metadata": {},
   "outputs": [],
   "source": [
    "b = [1,5,8,12,13,24,32,16,18,98,72,14]\n",
    "value = 16\n",
    "c = quick_sort(b)\n",
    "c"
   ]
  },
  {
   "cell_type": "code",
   "execution_count": null,
   "metadata": {},
   "outputs": [],
   "source": [
    "binary_search(c, value)"
   ]
  },
  {
   "cell_type": "markdown",
   "metadata": {},
   "source": [
    "## Majority "
   ]
  },
  {
   "cell_type": "code",
   "execution_count": null,
   "metadata": {},
   "outputs": [],
   "source": [
    "## Check the element > n/2 times\n",
    "def get_majority_element(a, left, right):\n",
    "    if left == right:\n",
    "        return -1\n",
    "    if left + 1 == right:\n",
    "        return a[left]\n",
    "\n",
    "    left_m = get_majority_element(a, left, (left + right - 1)//2 + 1)\n",
    "    right_m = get_majority_element(a, (left + right - 1)//2 + 1, right)\n",
    "    \n",
    "    left_count = 0\n",
    "    for i in range(left, right):\n",
    "        if a[i] == left_m:\n",
    "            left_count += 1\n",
    "    if left_count > (right-left)//2:\n",
    "        return left_m\n",
    "\n",
    "    right_count = 0\n",
    "    for i in range(left, right):\n",
    "        if a[i] == right_m:\n",
    "            right_count += 1\n",
    "    if right_count > (right-left)//2:\n",
    "        return right_m\n",
    "\n",
    "    return -1\n",
    "# if __name__ == '__main__':\n",
    "#     input = sys.stdin.read()\n",
    "#     n, *a = list(map(int, input.split()))\n",
    "#     if get_majority_element(a, 0, n) != -1:\n",
    "#         print(1)\n",
    "#     else:\n",
    "#         print(0)"
   ]
  },
  {
   "cell_type": "code",
   "execution_count": null,
   "metadata": {},
   "outputs": [],
   "source": [
    "a = [12, 11, 13, 11, 6, 11, 11,11,11,17,77,31,11,55,11]\n",
    "b = [2, 3, 9, 2, 2]\n",
    "get_majority_element(a, 0, len(a))"
   ]
  },
  {
   "cell_type": "markdown",
   "metadata": {},
   "source": [
    "## Quick sort (multiple partition)"
   ]
  },
  {
   "cell_type": "code",
   "execution_count": null,
   "metadata": {},
   "outputs": [],
   "source": [
    "def partition3(A, l, r):\n",
    "    lt = l  # We initiate lt to be the part that is less than the pivot\n",
    "    i = l   # We scan the array from left to right\n",
    "    gt = r  # The part that is greater than the pivot\n",
    "    pivot = A[l]    # The pivot, chosen to be the first element of the array, that why we'll randomize the first elements position\n",
    "                    # in the quick_sort function.\n",
    "    while i <= gt:      # Starting from the first element.\n",
    "        if A[i] < pivot:\n",
    "            A[lt], A[i] = A[i], A[lt]\n",
    "            lt += 1\n",
    "            i += 1\n",
    "        elif A[i] > pivot:\n",
    "            A[i], A[gt] = A[gt], A[i]\n",
    "            gt -= 1\n",
    "        else:\n",
    "            i += 1\n",
    "            \n",
    "    return lt, gt\n",
    "\n",
    "def partition2(a, l, r):\n",
    "    x = a[l]\n",
    "    j = l\n",
    "    for i in range(l + 1, r + 1):\n",
    "        if a[i] <= x:\n",
    "            j += 1\n",
    "            a[i], a[j] = a[j], a[i]\n",
    "    a[l], a[j] = a[j], a[l]\n",
    "    return j\n",
    "\n",
    "\n",
    "def randomized_quick_sort(a, l, r):\n",
    "    if l >= r:\n",
    "        return\n",
    "    k = random.randint(l, r)\n",
    "    a[l], a[k] = a[k], a[l]\n",
    "    #use partition3\n",
    "    lt, gt = partition3(a, l, r)\n",
    "    print(lt, gt)\n",
    "    randomized_quick_sort(a, l, lt - 1)\n",
    "    randomized_quick_sort(a, gt + 1, r)"
   ]
  },
  {
   "cell_type": "code",
   "execution_count": null,
   "metadata": {},
   "outputs": [],
   "source": [
    "## With for loop\n",
    "def partition3(a, l, r):\n",
    "    x = a[l]\n",
    "    m1 = l\n",
    "    m2 = l\n",
    "    i = m1\n",
    "    for i in range(l + 1, r + 1):\n",
    "        print(i)\n",
    "        print(m1, m2)\n",
    "        if a[i] < x:\n",
    "            print(a)\n",
    "            a[i], a[m1] = a[m1], a[i]\n",
    "            a[i], a[m2+1] = a[m2+1], a[i]\n",
    "            m1 += 1\n",
    "            m2 += 1\n",
    "        elif a[i] == x:\n",
    "            a[i], a[m2+1] = a[m2+1], a[i]\n",
    "            m2 += 1\n",
    "    return m1, m2"
   ]
  },
  {
   "cell_type": "code",
   "execution_count": null,
   "metadata": {},
   "outputs": [],
   "source": [
    "import random\n",
    "c = [12, 11, 10,4,8,9,1,5,7]\n",
    "randomized_quick_sort(c, 0, len(c) - 1)\n",
    "c"
   ]
  },
  {
   "cell_type": "code",
   "execution_count": null,
   "metadata": {},
   "outputs": [],
   "source": [
    "c = [12, 11, 10,4,8,9,1,5,7]\n",
    "k = random.randint(0, len(c) - 1)\n",
    "c[0], c[k] = c[k], c[0]\n",
    "c"
   ]
  },
  {
   "cell_type": "code",
   "execution_count": null,
   "metadata": {},
   "outputs": [],
   "source": [
    "# #use partition3\n",
    "lt, gt = partition3(c, 0, len(c) - 1)\n",
    "print(lt, gt)"
   ]
  },
  {
   "cell_type": "markdown",
   "metadata": {},
   "source": [
    "## Merge Sort"
   ]
  },
  {
   "cell_type": "code",
   "execution_count": null,
   "metadata": {},
   "outputs": [],
   "source": [
    "# Python program for implementation of MergeSort\n",
    "def mergeSort(arr):\n",
    "\tif len(arr) > 1:\n",
    "\n",
    "\t\t# Finding the mid of the array\n",
    "\t\tmid = len(arr)//2\n",
    "\n",
    "\t\t# Dividing the array elements\n",
    "\t\tL = arr[:mid]\n",
    "\n",
    "\t\t# into 2 halves\n",
    "\t\tR = arr[mid:]\n",
    "\n",
    "\t\t# Sorting the first half\n",
    "\t\tmergeSort(L)\n",
    "\n",
    "\t\t# Sorting the second half\n",
    "\t\tmergeSort(R)\n",
    "\n",
    "\t\ti = j = k = 0\n",
    "\n",
    "\t\t# Copy data to temp arrays L[] and R[]\n",
    "\t\twhile i < len(L) and j < len(R):\n",
    "\t\t\tif L[i] < R[j]:\n",
    "\t\t\t\tarr[k] = L[i]\n",
    "\t\t\t\ti += 1\n",
    "\t\t\telse:\n",
    "\t\t\t\tarr[k] = R[j]\n",
    "\t\t\t\tj += 1\n",
    "\t\t\tk += 1\n",
    "\n",
    "\t\t# Checking if any element was left\n",
    "\t\twhile i < len(L):\n",
    "\t\t\tarr[k] = L[i]\n",
    "\t\t\ti += 1\n",
    "\t\t\tk += 1\n",
    "\n",
    "\t\twhile j < len(R):\n",
    "\t\t\tarr[k] = R[j]\n",
    "\t\t\tj += 1\n",
    "\t\t\tk += 1\n",
    "\n",
    "# Code to print the list\n",
    "\n",
    "\n",
    "def printList(arr):\n",
    "\tfor i in range(len(arr)):\n",
    "\t\tprint(arr[i], end=\" \")\n",
    "\tprint()\n",
    "\n",
    "\n",
    "# Driver Code\n",
    "\n",
    "arr = [12, 11, 13, 5, 6, 7, 54,26,93,17,77,31,44,55,20]\n",
    "print(\"Given array is\", end=\"\\n\")\n",
    "printList(arr)\n",
    "mergeSort(arr)\n",
    "print(\"Sorted array is: \", end=\"\\n\")\n",
    "printList(arr)\n",
    "\n",
    "# This code is contributed by Mayank Khanna\n"
   ]
  },
  {
   "cell_type": "markdown",
   "metadata": {},
   "source": [
    "## Selection sort"
   ]
  },
  {
   "cell_type": "code",
   "execution_count": null,
   "metadata": {},
   "outputs": [],
   "source": [
    "def selection_sort(arr):\n",
    "    index_length = range(0, len(arr) - 1)\n",
    "    for i in index_length:\n",
    "        min_value = i\n",
    "        \n",
    "        for j in range(i+1, len(arr)):\n",
    "            if arr[j] < arr[min_value]:\n",
    "                min_value = j\n",
    "        \n",
    "        if min_value != i:\n",
    "            arr[min_value], arr[i] = arr[i], arr[min_value]\n",
    "    \n",
    "    return arr"
   ]
  },
  {
   "cell_type": "code",
   "execution_count": null,
   "metadata": {},
   "outputs": [],
   "source": [
    "selection_sort(b)"
   ]
  },
  {
   "cell_type": "markdown",
   "metadata": {},
   "source": [
    "## Optimal Comparison"
   ]
  },
  {
   "cell_type": "code",
   "execution_count": null,
   "metadata": {},
   "outputs": [],
   "source": [
    "list1 = [\"C\", \"A\", \"T\"]\n",
    "list2 = [\"C\", \"A\", None]\n",
    "def get_index(list_item):\n",
    "    idx =[]\n",
    "    for i in range(0, len(list_item)):\n",
    "        if list_item[i] == None:\n",
    "            idx.append(None)\n",
    "        else:\n",
    "            idx.append(i)\n",
    "    return idx"
   ]
  },
  {
   "cell_type": "code",
   "execution_count": null,
   "metadata": {},
   "outputs": [],
   "source": [
    "idx1 = get_index(list1)\n",
    "idx2 = get_index(list2)\n",
    "tup = [(k,v) for k,v in dict(zip(idx1, idx2)).items()]"
   ]
  },
  {
   "cell_type": "code",
   "execution_count": null,
   "metadata": {},
   "outputs": [],
   "source": [
    "def dp_approach(n):\n",
    "    dp = [0,0]\n",
    "    array = [0,0]\n",
    "    for i in range(2, n+1):\n",
    "        count_3 = count_2 = count_1 = n\n",
    "        if i % 3 == 0:\n",
    "            count_3 = dp[int(i/3)]\n",
    "        if i % 2 == 0:\n",
    "            count_2 = dp[int(i/2)]\n",
    "        if i - 1 >= 0:\n",
    "            count_1 = dp[i-1]\n",
    "        \n",
    "        dp.append(min(count_3+1, count_2+1, count_1+1))\n",
    "        \n",
    "        if count_3 <= min(count_2, count_1):\n",
    "            array.append(int(i/3))\n",
    "        elif count_2 <= min(count_3, count_1):\n",
    "            array.append(int(i/2))\n",
    "        elif count_1 <= min(count_3, count_2):\n",
    "            array.append(i-1)\n",
    "#     print(dp)\n",
    "#     print(array)\n",
    "    array_2 = [n]\n",
    "#     print(array_2)\n",
    "    for i in range(dp[n]):\n",
    "#         print(array[n])\n",
    "        array_2.append(array[n])\n",
    "        n = array[n]\n",
    "    array_2.reverse()\n",
    "    \n",
    "    return array_2"
   ]
  },
  {
   "cell_type": "code",
   "execution_count": null,
   "metadata": {},
   "outputs": [],
   "source": [
    "sequence = dp_approach(1)\n",
    "print(len(sequence) - 1)\n",
    "for x in sequence:\n",
    "    print(x, end=' ')"
   ]
  },
  {
   "cell_type": "code",
   "execution_count": null,
   "metadata": {},
   "outputs": [],
   "source": [
    "# A Space efficient Dynamic Programming\n",
    "# based Python3 program to find minimum\n",
    "# number operations to convert str1 to str2\n",
    "def EditDistDP(str1, str2):\n",
    "\t\n",
    "\tlen1 = len(str1)\n",
    "\tlen2 = len(str2)\n",
    "\n",
    "\t# Create a DP array to memoize result\n",
    "\t# of previous computations\n",
    "\tDP = [[0 for i in range(len1 + 1)] \n",
    "\t\t\tfor j in range(2)];\n",
    "\n",
    "\t# Base condition when second String\n",
    "\t# is empty then we remove all characters\n",
    "\tfor i in range(0, len1 + 1):\n",
    "\t\tDP[0][i] = i\n",
    "\n",
    "\t# Start filling the DP\n",
    "\t# This loop run for every\n",
    "\t# character in second String\n",
    "\tfor i in range(1, len2 + 1):\n",
    "\t\t\n",
    "\t\t# This loop compares the char from\n",
    "\t\t# second String with first String\n",
    "\t\t# characters\n",
    "\t\tfor j in range(0, len1 + 1):\n",
    "\n",
    "\t\t\t# If first String is empty then\n",
    "\t\t\t# we have to perform add character\n",
    "\t\t\t# operation to get second String\n",
    "\t\t\tif (j == 0):\n",
    "\t\t\t\tDP[i % 2][j] = i\n",
    "\n",
    "\t\t\t# If character from both String\n",
    "\t\t\t# is same then we do not perform any\n",
    "\t\t\t# operation . here i % 2 is for bound\n",
    "\t\t\t# the row number.\n",
    "\t\t\telif(str1[j - 1] == str2[i-1]):\n",
    "\t\t\t\tDP[i % 2][j] = DP[(i - 1) % 2][j - 1]\n",
    "\t\t\t\n",
    "\t\t\t# If character from both String is\n",
    "\t\t\t# not same then we take the minimum\n",
    "\t\t\t# from three specified operation\n",
    "\t\t\telse:\n",
    "\t\t\t\tDP[i % 2][j] = (1 + min(DP[(i - 1) % 2][j], \n",
    "\t\t\t\t\t\t\t\t\tmin(DP[i % 2][j - 1], \n",
    "\t\t\t\t\t\t\t\tDP[(i - 1) % 2][j - 1])))\n",
    "\t\t\t\n",
    "\t# After complete fill the DP array\n",
    "\t# if the len2 is even then we end\n",
    "\t# up in the 0th row else we end up\n",
    "\t# in the 1th row so we take len2 % 2\n",
    "\t# to get row\n",
    "\treturn(DP[len2 % 2][len1])\n",
    "\n",
    "# Driver code\n",
    "if __name__ == '__main__':\n",
    "\t\n",
    "\tstr1 = \"food\"\n",
    "\tstr2 = \"money\"\n",
    "\t\n",
    "\tEditDistDP(str1, str2)\n",
    "\n",
    "# This code is contributed by gauravrajput1\n"
   ]
  },
  {
   "cell_type": "code",
   "execution_count": null,
   "metadata": {},
   "outputs": [],
   "source": [
    "EditDistDP('short', 'ports')"
   ]
  },
  {
   "cell_type": "markdown",
   "metadata": {},
   "source": [
    "## Distance "
   ]
  },
  {
   "cell_type": "code",
   "execution_count": null,
   "metadata": {},
   "outputs": [],
   "source": [
    "import numpy as np\n",
    "\n",
    "## Basic rule: Delete + 1, Addition + 1, Substituition + 2\n",
    "\n",
    "def edit_dis_new(target, source):\n",
    "    target = '#' + target\n",
    "    source = '#' + source\n",
    "    \n",
    "    target = [k for k in target]\n",
    "    source = [k for k in source]\n",
    "    sol = np.zeros((len(source), len(target)))\n",
    "    \n",
    "    # Set row and columns\n",
    "    sol[0] = [j for j in range(len(target))]\n",
    "    sol[:,0] = [j for j in range(len(source))]\n",
    "    \n",
    "    # Anchor value\n",
    "    if target[1] != source[1]:\n",
    "        sol[1,1] = 2\n",
    "        \n",
    "    for c in range(1, len(target)):\n",
    "        for r in range(1, len(source)):\n",
    "            if target[c] != source[r]:\n",
    "                # Not the same letter\n",
    "                sol[r,c] = min(sol[r-1,c], sol[r,c-1]) + 1\n",
    "            else:\n",
    "                # Same letter so shift the value \n",
    "                sol[r,c] = sol[r-1,c-1]\n",
    "    \n",
    "    return int(sol[-1][-1]) ## Get the last element"
   ]
  },
  {
   "cell_type": "code",
   "execution_count": null,
   "metadata": {},
   "outputs": [],
   "source": [
    "a = edit_dis_new('short', 'sports')\n",
    "a"
   ]
  },
  {
   "cell_type": "code",
   "execution_count": null,
   "metadata": {},
   "outputs": [],
   "source": [
    "anything = input(\"Tell me anything...\")\n",
    "print(\"Hmm...\", anything, \"...Really?\")"
   ]
  },
  {
   "cell_type": "code",
   "execution_count": null,
   "metadata": {},
   "outputs": [],
   "source": [
    "fnam = input(\"May I have your first name, please? \")\n",
    "lnam = input(\"May I have your last name, please? \")\n",
    "print(\"Thank you.\")\n",
    "print(\"\\nYour name is \" + fnam + \" \" + lnam + \".\")"
   ]
  },
  {
   "cell_type": "markdown",
   "metadata": {},
   "source": [
    "## Partition"
   ]
  },
  {
   "cell_type": "code",
   "execution_count": null,
   "metadata": {},
   "outputs": [],
   "source": [
    "\n",
    "def findPartition(arr):\n",
    "    n = len(arr)\n",
    "    sum_val = 0\n",
    "    i, j = 0, 0\n",
    " \n",
    "    # calculate sum of all elements\n",
    "    for i in range(n):\n",
    "        sum_val += arr[i]\n",
    " \n",
    "    if sum_val % 2 != 0:\n",
    "        return 0\n",
    " \n",
    "    part = [[True for i in range(n + 1)]\n",
    "            for j in range(sum_val // 2 + 1)]\n",
    " \n",
    "    # initialize top row as true\n",
    "    for i in range(0, n + 1):\n",
    "        part[0][i] = True\n",
    " \n",
    "    # initialize leftmost column,\n",
    "    # except part[0][0], as 0\n",
    "    for i in range(1, sum_val // 2 + 1):\n",
    "        part[i][0] = False\n",
    " \n",
    "    # fill the partition table in\n",
    "    # bottom up manner\n",
    "    for i in range(1, sum_val // 2 + 1):\n",
    " \n",
    "        for j in range(1, n + 1):\n",
    "            part[i][j] = part[i][j - 1]\n",
    " \n",
    "            if i >= arr[j - 1]:\n",
    "                part[i][j] = (part[i][j] or\n",
    "                              part[i - arr[j - 1]][j - 1])\n",
    "    \n",
    "    if part[sum_val // 2][n] == True:\n",
    "        return 0\n",
    "    else:\n",
    "        return 1"
   ]
  },
  {
   "cell_type": "code",
   "execution_count": null,
   "metadata": {},
   "outputs": [],
   "source": [
    "findPartition([3, 3, 3, 3])"
   ]
  },
  {
   "cell_type": "code",
   "execution_count": null,
   "metadata": {},
   "outputs": [],
   "source": [
    "## Partition\n",
    "# Uses python3\n",
    "import sys\n",
    "import itertools\n",
    "\n",
    "def findPartition(arr):\n",
    "    n = len(arr)\n",
    "    sum_val = 0\n",
    "    i, j = 0, 0\n",
    " \n",
    "    # calculate sum of all elements\n",
    "    for i in range(n):\n",
    "        sum_val += arr[i]\n",
    " \n",
    "    if sum_val % 2 != 0:\n",
    "        return 0\n",
    " \n",
    "    part = [[True for i in range(n + 1)] for j in range(sum_val // 2 + 1)]\n",
    " \n",
    "    # initialize top row as true\n",
    "    for i in range(0, n + 1):\n",
    "        part[0][i] = True\n",
    " \n",
    "    # initialize leftmost column,\n",
    "    # except part[0][0], as 0\n",
    "    for i in range(1, sum_val // 2 + 1):\n",
    "        part[i][0] = False\n",
    " \n",
    "    # fill the partition table in\n",
    "    # bottom up manner\n",
    "    for i in range(1, sum_val // 2 + 1):\n",
    " \n",
    "        for j in range(1, n + 1):\n",
    "            part[i][j] = part[i][j - 1]\n",
    " \n",
    "            if i >= arr[j - 1]:\n",
    "                part[i][j] = (part[i][j] or\n",
    "                              part[i - arr[j - 1]][j - 1])\n",
    "    \n",
    "    if part[sum_val // 2][n] == True:\n",
    "        return 1\n",
    "    else:\n",
    "        return 0\n",
    "\n",
    "if __name__ == '__main__':\n",
    "    input = sys.stdin.read()\n",
    "    n, *A = list(map(int, input.split()))\n",
    "    print(findPartition(A))"
   ]
  },
  {
   "cell_type": "markdown",
   "metadata": {},
   "source": [
    "## Prime Optimization"
   ]
  },
  {
   "cell_type": "markdown",
   "metadata": {},
   "source": [
    "Instead of checking till n, we can check till √n because a larger factor of n must be a multiple of a smaller factor that has been already checked.\n",
    "The algorithm can be improved further by observing that all primes are of the form 6k ± 1, with the exception of 2 and 3. This is because all integers can be expressed as (6k + i) for some integer k and for i = ?1, 0, 1, 2, 3, or 4; 2 divides (6k + 0), (6k + 2), (6k + 4); and 3 divides (6k + 3). So a more efficient method is to test if n is divisible by 2 or 3, then to check through all the numbers of form 6k ± 1. (Source: wikipedia)"
   ]
  },
  {
   "cell_type": "code",
   "execution_count": null,
   "metadata": {},
   "outputs": [],
   "source": [
    "def isPrime(n) : \n",
    " \n",
    "    # Corner cases \n",
    "    if (n <= 1) : \n",
    "        return False\n",
    "    if (n <= 3) : \n",
    "        return True\n",
    " \n",
    "    # This is checked so that we can skip \n",
    "    # middle five numbers in below loop \n",
    "    if (n % 2 == 0 or n % 3 == 0) : \n",
    "        return False\n",
    " \n",
    "    i = 5\n",
    "    while(i * i <= n) : \n",
    "        if (n % i == 0 or n % (i + 2) == 0) : \n",
    "            return False\n",
    "        i = i + 6\n",
    " \n",
    "    return True\n",
    " "
   ]
  },
  {
   "cell_type": "code",
   "execution_count": null,
   "metadata": {},
   "outputs": [],
   "source": [
    "def isPrime(num):\n",
    "    if (num <2):\n",
    "        return print(\"Error\")\n",
    "    for i in range(2, num):\n",
    "#         print(i)\n",
    "        if num%i == 0:\n",
    "            return False\n",
    "            break\n",
    "    return True\n",
    "# for i in range(1, 20):\n",
    "# \tif isPrime(i + 1):\n",
    "# \t\t\tprint(i + 1, end=\" \")"
   ]
  },
  {
   "cell_type": "code",
   "execution_count": null,
   "metadata": {},
   "outputs": [],
   "source": [
    "isPrime(13)"
   ]
  },
  {
   "cell_type": "markdown",
   "metadata": {},
   "source": [
    "## Buble sort"
   ]
  },
  {
   "cell_type": "code",
   "execution_count": null,
   "metadata": {},
   "outputs": [],
   "source": [
    "myList = [8, 10, 6, 2, 4] # list to sort\n",
    "swapped = True # it's a little fake - we need it to enter the while loop\n",
    "\n",
    "while swapped:\n",
    "    swapped = False # no swaps so far\n",
    "    for i in range(len(myList) - 1):\n",
    "        if myList[i] > myList[i + 1]:\n",
    "            swapped = True # swap occured!\n",
    "            myList[i], myList[i + 1] = myList[i + 1], myList[i]\n",
    "\n",
    "print(myList)"
   ]
  },
  {
   "cell_type": "code",
   "execution_count": null,
   "metadata": {},
   "outputs": [],
   "source": [
    "def bubble_sort(arr):\n",
    "    swapped = False\n",
    "    while not swapped:\n",
    "        swapped = True\n",
    "        for i in range(len(arr) - 1):\n",
    "            if arr[i] > arr[i+1]:\n",
    "                swapped = False\n",
    "                arr[i], arr[i+1] = arr[i+1], arr[i]\n",
    "    return arr"
   ]
  },
  {
   "cell_type": "code",
   "execution_count": null,
   "metadata": {},
   "outputs": [],
   "source": [
    "# a = [int(x) for x in input(\"Enter two value: \").split(\",\")]\n",
    "a = [4,1,6,2,7,8,9,12,56,100]\n",
    "bubble_sort(a)"
   ]
  },
  {
   "cell_type": "markdown",
   "metadata": {},
   "source": [
    "## Sterling set numbers"
   ]
  },
  {
   "cell_type": "code",
   "execution_count": null,
   "metadata": {},
   "outputs": [],
   "source": [
    "def sterling2(n, k):\n",
    "        computed = {}\n",
    "\n",
    "        key = str(n) + \",\" + str(k)\n",
    "\n",
    "        if key in computed.keys():\n",
    "            return computed[key]\n",
    "        if n == k == 0:\n",
    "            return 1\n",
    "        if (n > 0 and k == 0) or (n == 0 and k > 0):\n",
    "            return 0\n",
    "        if n == k:\n",
    "            return 1\n",
    "        if k > n:\n",
    "            return 0\n",
    "        result = k * sterling2(n - 1, k) + sterling2(n - 1, k - 1)\n",
    "        computed[key] = result\n",
    "        return result"
   ]
  },
  {
   "cell_type": "code",
   "execution_count": null,
   "metadata": {},
   "outputs": [],
   "source": [
    "sterling2(4,3) + sterling2(4,2) + sterling2(4,1)"
   ]
  },
  {
   "cell_type": "markdown",
   "metadata": {},
   "source": [
    "## Leetcode"
   ]
  },
  {
   "cell_type": "code",
   "execution_count": 6,
   "metadata": {},
   "outputs": [
    {
     "name": "stdout",
     "output_type": "stream",
     "text": [
      "Your index 1\n",
      "Your index 3\n",
      "Your index 5\n"
     ]
    },
    {
     "data": {
      "text/plain": [
       "18"
      ]
     },
     "execution_count": 6,
     "metadata": {},
     "output_type": "execute_result"
    }
   ],
   "source": [
    "# Solution Leetcode \n",
    "class Solution:\n",
    "    def isAnagram(self, s: str, t: str) -> bool:\n",
    "        flag = True\n",
    "        \n",
    "        if len(t)!=len(s):\n",
    "            return False\n",
    "        elif len(t)==1 and len(s)==1:\n",
    "            return s[0]==t[0]\n",
    "        else:\n",
    "            new_s = sorted(s)\n",
    "            new_t = sorted(t)\n",
    "\n",
    "            for i in range(len(new_s)-1):\n",
    "                if new_s[i] != new_t[i]:\n",
    "                    flag = False\n",
    "                    break\n",
    "\n",
    "            return flag\n",
    "    \n",
    "    def maxCoins(self, piles) -> int:\n",
    "        num_triplet = len(piles)//3\n",
    "        bob_indx = len(piles) - num_triplet\n",
    "        new_piles = sorted(piles,reverse=True)[:bob_indx]\n",
    "        value = 0\n",
    "\n",
    "        for index in range(len(new_piles)):\n",
    "            if (index%2 != 0):\n",
    "                print(\"Your index {}\".format(index))\n",
    "                value += new_piles[index]\n",
    "\n",
    "        return value\n",
    "                \n",
    "s = \"anagram\" \n",
    "t = \"nagaram\" \n",
    "a = Solution()           \n",
    "print(\"Check Anagram\", a.isAnagram(s,t))\n",
    "a.maxCoins([9,8,7,6,5,1,2,3,4])"
   ]
  },
  {
   "cell_type": "markdown",
   "metadata": {},
   "source": [
    "## Linked List"
   ]
  },
  {
   "cell_type": "code",
   "execution_count": null,
   "metadata": {},
   "outputs": [],
   "source": [
    "# Linked Lists\n",
    "class Node:\n",
    "  def __init__(self, value):\n",
    "    self.value = value\n",
    "    self.next = None\n",
    "\n",
    "class LinkedList:\n",
    "  def __init__(self):\n",
    "    self.head = None\n",
    "\n",
    "  def print(self):\n",
    "    tmp = self.head\n",
    "    while tmp is not None:\n",
    "      print(tmp.value, \"->\", end=\" \")\n",
    "      tmp = tmp.next\n",
    "    print()\n",
    "\n",
    "  def insert_head(self, value):\n",
    "    new_node = Node(value)\n",
    "    new_node.next = self.head\n",
    "    self.head = new_node\n",
    "\n",
    "  def append(self, value):\n",
    "    \"\"\"\n",
    "    append phan tu vao cuoi linkedlist\n",
    "    \"\"\"\n",
    "    tmp = self.head\n",
    "    while tmp.next is not None:\n",
    "      tmp = tmp.next\n",
    "\n",
    "    new_node = Node(value)\n",
    "    tmp.next = new_node\n",
    "\n",
    "  def insert_at_k(self, value, k):\n",
    "    \"\"\"\n",
    "    insert value vao vi tri K\n",
    "    \"\"\"\n",
    "    pass\n",
    "\n",
    "  def remove_at_k(self, k):\n",
    "    \"\"\"\n",
    "    xoa phan tu vi tri k\n",
    "    \"\"\"\n",
    "    pass\n",
    "    \n",
    "  def merge(self, other_linked_list):\n",
    "    \"\"\"\n",
    "    merged 2 linkedlist\n",
    "    \"\"\"\n",
    "    pass\n",
    "\n",
    "  def swap(self, i, j):\n",
    "    \"\"\"\n",
    "    swap 2 phan tu vi tri i, j\n",
    "    \"\"\"\n",
    "    pass\n",
    "    \n",
    "ll = LinkedList()\n",
    "\n",
    "ll.insert_head(1)\n",
    "ll.insert_head(10)\n",
    "ll.insert_head(5)\n",
    "ll.insert_head(6)\n",
    "\n",
    "ll.print()\n",
    "\n",
    "ll.append(2)\n",
    "ll.print()\n",
    "ll.swap(1,3)\n",
    "ll.print()"
   ]
  }
 ],
 "metadata": {
  "interpreter": {
   "hash": "176b3b78ef9c648dbeafa17d418c7b27a5ea250ebf1b30a944a642d4bcfe3ecd"
  },
  "kernelspec": {
   "display_name": "Python 3.8.11 64-bit ('longnv': conda)",
   "name": "python3"
  },
  "language_info": {
   "codemirror_mode": {
    "name": "ipython",
    "version": 3
   },
   "file_extension": ".py",
   "mimetype": "text/x-python",
   "name": "python",
   "nbconvert_exporter": "python",
   "pygments_lexer": "ipython3",
   "version": "3.8.11"
  }
 },
 "nbformat": 4,
 "nbformat_minor": 4
}
